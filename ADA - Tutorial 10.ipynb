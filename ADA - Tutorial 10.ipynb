{
 "cells": [
  {
   "cell_type": "markdown",
   "metadata": {
    "slideshow": {
     "slide_type": "slide"
    }
   },
   "source": [
    "# ECOM90025 ADA: Tutorial 10 in Week 11\n",
    "\n",
    "- Covering materials from week 10 lecture: marginal regression and PLS."
   ]
  },
  {
   "cell_type": "markdown",
   "metadata": {
    "slideshow": {
     "slide_type": "slide"
    }
   },
   "source": [
    "# My contact:\n",
    "- Name: Zheng Fan\n",
    "- Email: fan.z@unimelb.edu.au\n",
    "- Send me an email if you have any general or conceptual questions\n",
    "- I'm also happy to stay for a while after the tutorial.\n",
    "- Consultataion: meet Dr Yong Song every Tuesday 1-2pm at FBE level-3 360.\n",
    "- Special consideration: visit Stop 1."
   ]
  },
  {
   "cell_type": "markdown",
   "metadata": {},
   "source": [
    "# Tutorial participation \n",
    "- You need to actively participate instead of just showing up. \n",
    "- Attendance does not guarantee marks. \n",
    "- You may get a maximum of 10 points out of 11 tutorials.\n",
    "- If you unable to come to school, seek help from Stop 1."
   ]
  },
  {
   "cell_type": "markdown",
   "metadata": {},
   "source": [
    "# Software:\n",
    "- Google Colab is a free online platform where you can execute your code (especially for Python) and write text (LaTeX and Html) without any software installed.\n",
    "- Local Jupyter Lab, which has been demonstrated during the lecture.\n",
    "- Local Jupyter Notebook from Anaconda (My personal preference). Just download Anaconda, and then open Jupyter Notebook.\n",
    "- Other IDE such as PyCharm, but I'm not very comfortable with using PyCharm. From what I know, the code saved in PyCharm is .py but not .ipynb, which may requires some conversion.\n",
    "\n",
    "Although you can always use Colab, It is recommended to have a local machine installed."
   ]
  },
  {
   "cell_type": "markdown",
   "metadata": {},
   "source": [
    "#### You may access my tutorial code via: https://github.com/zhengf1/2023-S2-ADA or Canvas after Wednesday afternoon.\n",
    "- <font color=\"red\">\n",
    "If you are using Google Colab, you can simply copy paste the code; or you can upload this \".ipynb\" notebook file to Google Colab, which would look exactly the same as local Jupyter machine.\n",
    "    </font>"
   ]
  },
  {
   "cell_type": "markdown",
   "metadata": {},
   "source": [
    "# Housekeeping code to start with"
   ]
  },
  {
   "cell_type": "code",
   "execution_count": 1,
   "metadata": {},
   "outputs": [],
   "source": [
    "import pandas as pd\n",
    "import numpy as np\n",
    "import plotly.express as px\n",
    "import plotly.graph_objects as go\n",
    "import statsmodels.formula.api as smf\n",
    "import statsmodels.api as sm\n",
    "import matplotlib.pyplot as plt\n",
    "import matplotlib.ticker as ticker\n",
    "from sklearn.linear_model import Lasso\n",
    "from sklearn.linear_model import LassoCV\n",
    "import patsy\n",
    "from sklearn.decomposition import PCA\n",
    "from sklearn.preprocessing import StandardScaler\n",
    "import matplotlib.patches as mpatches\n",
    "from sklearn.linear_model import LassoCV\n",
    "from sklearn.cross_decomposition import PLSRegression\n",
    "from sklearn.model_selection import cross_val_predict, KFold\n",
    "from sklearn.metrics import mean_squared_error"
   ]
  },
  {
   "cell_type": "markdown",
   "metadata": {},
   "source": [
    "# What shall I trust?\n",
    "\n",
    "Industry-level software, such as STATA or Eviews, is mostly trustable because they are tested by both the producer and customers. In other words, they are heavily peer-reviewed.\n",
    "\n",
    "For free software such as R or python, they have user-supplied packages. They usually have no warranty. But good packages have more downloads, are used by many professionals, and can be trusted. It is usually very cheap to test by yourself.\n",
    "\n",
    "Algorithms in a paper or book (such as algorithm 21) can be misleading. Sometimes a simple typo or disclarity will destroy the user experience. Let's assume that functions from ` scikit` are correct and investigate algorithm 21."
   ]
  },
  {
   "cell_type": "markdown",
   "metadata": {},
   "source": [
    "# Let's first check the PLS package"
   ]
  },
  {
   "cell_type": "markdown",
   "metadata": {},
   "source": [
    "## Gas Octane Data\n",
    "\n",
    "- Y: octane rating.\n",
    "- X: near-infrared (NIR) spectroscopy. 401 variables\n",
    "- 60 observations\n",
    "\n",
    "p >> n case"
   ]
  },
  {
   "cell_type": "code",
   "execution_count": 2,
   "metadata": {},
   "outputs": [],
   "source": [
    "gas = pd.read_csv(\"https://www.dropbox.com/s/255h2nr3u82fj6j/gasoline.csv?dl=1\")\n",
    "octane = gas.iloc[:, 0]\n",
    "nir= gas.iloc[:, 1:]"
   ]
  },
  {
   "cell_type": "code",
   "execution_count": 3,
   "metadata": {},
   "outputs": [
    {
     "data": {
      "text/plain": [
       "[0    85.30\n",
       " 1    85.25\n",
       " 2    88.45\n",
       " 3    83.40\n",
       " 4    87.90\n",
       " Name: octane, dtype: float64,\n",
       "      900 nm    902 nm    904 nm    906 nm    908 nm    910 nm    912 nm  \\\n",
       " 0 -0.050193 -0.045903 -0.042187 -0.037177 -0.033348 -0.031207 -0.030036   \n",
       " 1 -0.044227 -0.039602 -0.035673 -0.030911 -0.026675 -0.023871 -0.022571   \n",
       " 2 -0.046867 -0.041260 -0.036979 -0.031458 -0.026520 -0.023346 -0.021392   \n",
       " 3 -0.046705 -0.042240 -0.038561 -0.034513 -0.030206 -0.027680 -0.026042   \n",
       " 4 -0.050859 -0.045145 -0.041025 -0.036357 -0.032747 -0.031498 -0.031415   \n",
       " \n",
       "      914 nm    916 nm    918 nm  ...   1682 nm   1684 nm   1686 nm   1688 nm  \\\n",
       " 0 -0.031298 -0.034217 -0.036012  ...  1.198461  1.224243  1.242645  1.250789   \n",
       " 1 -0.025410 -0.028960 -0.032740  ...  1.128877  1.148342  1.189116  1.223242   \n",
       " 2 -0.024993 -0.029309 -0.033920  ...  1.147964  1.167798  1.198287  1.237383   \n",
       " 3 -0.028280 -0.030920 -0.034012  ...  1.160089  1.169350  1.201066  1.233299   \n",
       " 4 -0.034611 -0.037781 -0.040752  ...  1.252712  1.238013  1.259616  1.273713   \n",
       " \n",
       "     1690 nm   1692 nm   1694 nm   1696 nm   1698 nm   1700 nm  \n",
       " 0  1.246626  1.250985  1.264189  1.244678  1.245913  1.221135  \n",
       " 1  1.253306  1.282889  1.215065  1.225211  1.227985  1.198851  \n",
       " 2  1.260979  1.276677  1.218871  1.223132  1.230321  1.208742  \n",
       " 3  1.262966  1.272709  1.211068  1.215044  1.232655  1.206696  \n",
       " 4  1.296524  1.299507  1.226448  1.230718  1.232864  1.202926  \n",
       " \n",
       " [5 rows x 401 columns]]"
      ]
     },
     "execution_count": 3,
     "metadata": {},
     "output_type": "execute_result"
    }
   ],
   "source": [
    "[octane.head(), nir.head()]"
   ]
  },
  {
   "cell_type": "code",
   "execution_count": 4,
   "metadata": {},
   "outputs": [],
   "source": [
    "pls = PLSRegression(n_components=1)\n",
    "pls.fit(nir, octane)\n",
    "yhat1 = pls.predict(nir)\n",
    "\n",
    "pls = PLSRegression(n_components=2)\n",
    "pls.fit(nir, octane)\n",
    "yhat2 = pls.predict(nir)\n",
    "\n",
    "pls = PLSRegression(n_components=3)\n",
    "pls.fit(nir, octane)\n",
    "yhat3 = pls.predict(nir)"
   ]
  },
  {
   "cell_type": "code",
   "execution_count": 5,
   "metadata": {},
   "outputs": [
    {
     "data": {
      "text/plain": [
       "array([[1.        , 0.55265476],\n",
       "       [0.55265476, 1.        ]])"
      ]
     },
     "execution_count": 5,
     "metadata": {},
     "output_type": "execute_result"
    }
   ],
   "source": [
    "np.corrcoef(yhat1.ravel(), octane)"
   ]
  },
  {
   "cell_type": "code",
   "execution_count": 6,
   "metadata": {},
   "outputs": [
    {
     "data": {
      "text/plain": [
       "array([[1.       , 0.8932727],\n",
       "       [0.8932727, 1.       ]])"
      ]
     },
     "execution_count": 6,
     "metadata": {},
     "output_type": "execute_result"
    }
   ],
   "source": [
    "np.corrcoef(yhat2.ravel(), octane)"
   ]
  },
  {
   "cell_type": "code",
   "execution_count": 7,
   "metadata": {},
   "outputs": [
    {
     "data": {
      "text/plain": [
       "array([[1.        , 0.98859469],\n",
       "       [0.98859469, 1.        ]])"
      ]
     },
     "execution_count": 7,
     "metadata": {},
     "output_type": "execute_result"
    }
   ],
   "source": [
    "np.corrcoef(yhat3.ravel(), octane)"
   ]
  },
  {
   "cell_type": "markdown",
   "metadata": {},
   "source": [
    "These correlations are identical as the textbook."
   ]
  },
  {
   "cell_type": "code",
   "execution_count": 8,
   "metadata": {
    "scrolled": false
   },
   "outputs": [
    {
     "data": {
      "text/plain": [
       "Text(0.5, 1.0, 'Prediction v.s. True')"
      ]
     },
     "execution_count": 8,
     "metadata": {},
     "output_type": "execute_result"
    },
    {
     "data": {
      "image/png": "[encoded data removed]",
      "text/plain": [
       "<Figure size 360x360 with 1 Axes>"
      ]
     },
     "metadata": {
      "needs_background": "light"
     },
     "output_type": "display_data"
    }
   ],
   "source": [
    "plt.figure(figsize=(5, 5))\n",
    "scatter = plt.scatter(yhat2, octane, marker='o')\n",
    "plt.xlabel('Average Prediction')\n",
    "plt.ylabel('Octane Value')\n",
    "plt.title('Prediction v.s. True')"
   ]
  },
  {
   "cell_type": "markdown",
   "metadata": {},
   "source": [
    "# Let's check the PLS algorithm and see how it performs"
   ]
  },
  {
   "cell_type": "markdown",
   "metadata": {},
   "source": [
    "# Partial Least Squares (PLS)\n",
    "\n",
    "\n",
    "Algorithm 20 Marginal Regression (Page 226)\n",
    "\n",
    "1. Calculate OLS coefficeint $\\varphi_j=cor(x_j, y)/sd(x_j)$ for simple univariate regression of $y$ on $x_j$ for $j=1,...p$. (the formula in algorithm 20 seems wrong...)\n",
    "1. Set $\\nu_i=x_i'\\varphi$ for each observation $i$\n",
    "1. Fit the *forward* univaraite linear regression $y_i=\\alpha + \\beta v_i+ɛ_i$\n",
    "\n",
    "\n",
    "\n",
    "---\n",
    "\n",
    "\n",
    "\n",
    "PLS is repeated MR on its previously obtained residual.\n",
    "\n",
    "Algorithm 21 Partial Lest Squares (Page 228)\n",
    "1. start MR for $y$ on $x$. Denote the factor as $\\nu^1$ and the fitted value $\\hat{y}^1$.\n",
    "1. For the $k$th iteration, get residuals (from the $k-1$th step) $\\tilde{y}_i^{k-1}= y_i-\\hat{y}_i^{k-1}$.\n",
    "1. Repeat MR but use $\\tilde{y}_i^{k-1}$ as the dependent variable.\n",
    "1. Get new fitted value $\\hat{y}^k_i=\\hat{y}_i^{k-1}+\\beta_k \\nu_i^k$."
   ]
  },
  {
   "cell_type": "markdown",
   "metadata": {},
   "source": [
    "# Implement Algorithm 21\n",
    "\n",
    "- Copy the tutorial sheet and download the Gas Octane data.\n",
    "- Try PLS(3). \n",
    "- Compare the correlations to the result from the textbook or `SciKit`."
   ]
  },
  {
   "cell_type": "markdown",
   "metadata": {},
   "source": [
    "## MR 1"
   ]
  },
  {
   "cell_type": "code",
   "execution_count": 9,
   "metadata": {},
   "outputs": [],
   "source": [
    "N, K = nir.shape\n",
    "v = np.zeros(N)\n",
    "for ii in range(K):\n",
    "  x = nir.iloc[:, ii];\n",
    "  phi = np.corrcoef(x, octane)[0,1] / np.std(x)\n",
    "  v += x * phi\n",
    "\n",
    "v /= K"
   ]
  },
  {
   "cell_type": "code",
   "execution_count": 10,
   "metadata": {},
   "outputs": [
    {
     "data": {
      "text/plain": [
       "0.5526547567963024"
      ]
     },
     "execution_count": 10,
     "metadata": {},
     "output_type": "execute_result"
    }
   ],
   "source": [
    "model = smf.ols(\"octane~v\", data=nir)\n",
    "result = model.fit()\n",
    "\n",
    "yhat1 = result.fittedvalues\n",
    "residual1 = result.resid\n",
    "np.corrcoef(octane, yhat1)[0,1]## MR 1"
   ]
  },
  {
   "cell_type": "markdown",
   "metadata": {},
   "source": [
    "## MR 2"
   ]
  },
  {
   "cell_type": "code",
   "execution_count": 11,
   "metadata": {},
   "outputs": [],
   "source": [
    "y = residual1\n",
    "\n",
    "N, K = nir.shape\n",
    "v = np.zeros(N)\n",
    "for ii in range(K):\n",
    "  x = nir.iloc[:, ii];\n",
    "  phi = np.corrcoef(x, y)[0,1] / np.std(x)\n",
    "  v += x * phi\n",
    "\n",
    "v /= K"
   ]
  },
  {
   "cell_type": "code",
   "execution_count": 12,
   "metadata": {},
   "outputs": [
    {
     "data": {
      "text/plain": [
       "0.8932727009632153"
      ]
     },
     "execution_count": 12,
     "metadata": {},
     "output_type": "execute_result"
    }
   ],
   "source": [
    "model = smf.ols(\"y~v\", data=nir)\n",
    "result = model.fit()\n",
    "\n",
    "yhat2 = yhat1 + result.fittedvalues\n",
    "residual2 = result.resid\n",
    "np.corrcoef(octane, yhat2)[0,1]"
   ]
  },
  {
   "cell_type": "markdown",
   "metadata": {},
   "source": [
    "## MR 3"
   ]
  },
  {
   "cell_type": "code",
   "execution_count": 13,
   "metadata": {},
   "outputs": [],
   "source": [
    "y = residual2\n",
    "\n",
    "N, K = nir.shape\n",
    "v = np.zeros(N)\n",
    "for ii in range(K):\n",
    "  x = nir.iloc[:, ii];\n",
    "  phi = np.corrcoef(x, y)[0,1] / np.std(x)\n",
    "  v += x * phi\n",
    "\n",
    "v /= K"
   ]
  },
  {
   "cell_type": "code",
   "execution_count": 14,
   "metadata": {
    "scrolled": true
   },
   "outputs": [
    {
     "data": {
      "text/plain": [
       "0.8120654969653444"
      ]
     },
     "execution_count": 14,
     "metadata": {},
     "output_type": "execute_result"
    }
   ],
   "source": [
    "model = smf.ols(\"y~v\", data=nir)\n",
    "result = model.fit()\n",
    "\n",
    "yhat3 = yhat2 + result.fittedvalues\n",
    "residual3 = result.resid\n",
    "np.corrcoef(octane, yhat3)[0,1]"
   ]
  },
  {
   "cell_type": "markdown",
   "metadata": {},
   "source": [
    "The correlations between the true data and our predictions are different from the package (and the textbook)."
   ]
  },
  {
   "cell_type": "markdown",
   "metadata": {},
   "source": [
    "# Do it Right\n",
    "\n",
    "Can you read the source code for [`pls()`](https://rdrr.io/cran/textir/src/R/pls.R)? It does not look so simple, right? It is challenging because the theory is involved, and you are not required to go that far in this subject. But are you curious? There are a few points in the code missing in Algorithm 21.\n",
    "\n",
    "1. The factors should be orthogonal. Think about PCA. Such orthogonality is achieved by regressing the latter factor on the previous ones to get the residuals.\n",
    "1. The data requires first step normalisation.\n",
    "1. The formula $\\varphi_j=cor(x_j, y)/sd(x_j)$ is indeed used in the source code, but it is not the OLS coefficient.\n",
    "1. It has scale and shift to facilitate computational stability.\n",
    "\n",
    "Yong figured out that MR and PLS can be done via many linear regressions instead of using the formula from the textbook. It is intuitive and error-free. Now, let's try his algorithm."
   ]
  },
  {
   "cell_type": "markdown",
   "metadata": {},
   "source": [
    "## Step 1: MR\n",
    "\n",
    "1. Estimate all possible univariate regressions.\n",
    "1. Obtain their fitted values.\n",
    "1. Average ALL fitted values as a factor!\n",
    "1. Regress $y$ on this factor to get the first fit."
   ]
  },
  {
   "cell_type": "code",
   "execution_count": 15,
   "metadata": {},
   "outputs": [],
   "source": [
    "predicted_values = []\n",
    "\n",
    "# For each x variable, run a simple regression and store the predicted values\n",
    "for x_var in nir.columns:\n",
    "    X = sm.add_constant(nir[x_var])\n",
    "    model = sm.OLS(octane, X)\n",
    "    result = model.fit()\n",
    "    predicted_values.append(result.fittedvalues)\n",
    "\n",
    "# Average the predicted values\n",
    "v1 = np.mean(predicted_values, axis=0)"
   ]
  },
  {
   "cell_type": "code",
   "execution_count": 16,
   "metadata": {},
   "outputs": [
    {
     "data": {
      "text/plain": [
       "0.5526547567963196"
      ]
     },
     "execution_count": 16,
     "metadata": {},
     "output_type": "execute_result"
    }
   ],
   "source": [
    "model = smf.ols(\"octane~v1\", data=nir)\n",
    "result = model.fit()\n",
    "yhat1 = result.fittedvalues\n",
    "residual1 = result.resid\n",
    "np.corrcoef(octane, yhat1)[0,1]"
   ]
  },
  {
   "cell_type": "markdown",
   "metadata": {},
   "source": [
    "## step 2: PLS\n",
    "\n",
    "1. Get the $y$ residuals from the previous regression. This will be your new $y$.\n",
    "1. Use the same way as step 1 to get the second \"factor\".\n",
    "1. Then, regress this \"factor\" on the first factor and obtain the residuals. This is the \"factor\" residual and the real second factor.\n",
    "1. Regress the $y$ residual on the second factor to get the second fit.\n",
    "1. The sum of the first and second fitted values is the new fitted value."
   ]
  },
  {
   "cell_type": "code",
   "execution_count": 17,
   "metadata": {},
   "outputs": [],
   "source": [
    "predicted_values = []\n",
    "y = residual1\n",
    "\n",
    "# For each x variable, run a simple regression and store the predicted values\n",
    "for x_var in nir.columns:\n",
    "    X = sm.add_constant(nir[x_var])\n",
    "    model = sm.OLS(y, X)\n",
    "    result = model.fit()\n",
    "    predicted_values.append(result.fittedvalues)\n",
    "\n",
    "# Average the predicted values\n",
    "v2 = np.mean(predicted_values, axis=0)"
   ]
  },
  {
   "cell_type": "code",
   "execution_count": 18,
   "metadata": {},
   "outputs": [],
   "source": [
    "model = smf.ols(\"v2~v1\", data=nir)\n",
    "result = model.fit()\n",
    "v2 = result.resid"
   ]
  },
  {
   "cell_type": "code",
   "execution_count": 19,
   "metadata": {},
   "outputs": [
    {
     "data": {
      "text/plain": [
       "0.8932727009632352"
      ]
     },
     "execution_count": 19,
     "metadata": {},
     "output_type": "execute_result"
    }
   ],
   "source": [
    "model = smf.ols(\"y~v2\", data=nir)\n",
    "result = model.fit()\n",
    "yhat2 = yhat1 + result.fittedvalues\n",
    "residual2 = result.resid\n",
    "np.corrcoef(octane, yhat2)[0,1]"
   ]
  },
  {
   "cell_type": "markdown",
   "metadata": {},
   "source": [
    "## step 3: PLS one more time\n",
    "\n",
    "- Similar to step 2, but orthogonalise the third \"factor\" by regressing it on the previous two factors to get the residual (the third real factor)."
   ]
  },
  {
   "cell_type": "code",
   "execution_count": 20,
   "metadata": {},
   "outputs": [],
   "source": [
    "predicted_values = []\n",
    "y = residual2\n",
    "\n",
    "# For each x variable, run a simple regression and store the predicted values\n",
    "for x_var in nir.columns:\n",
    "    X = sm.add_constant(nir[x_var])\n",
    "    model = sm.OLS(y, X)\n",
    "    result = model.fit()\n",
    "    predicted_values.append(result.fittedvalues)\n",
    "\n",
    "# Average the predicted values\n",
    "v3 = np.mean(predicted_values, axis=0)"
   ]
  },
  {
   "cell_type": "code",
   "execution_count": 21,
   "metadata": {},
   "outputs": [],
   "source": [
    "model = smf.ols(\"v3~v1+v2\", data=nir)\n",
    "result = model.fit()\n",
    "v3 = result.resid"
   ]
  },
  {
   "cell_type": "code",
   "execution_count": 22,
   "metadata": {},
   "outputs": [
    {
     "data": {
      "text/plain": [
       "0.9885946940561491"
      ]
     },
     "execution_count": 22,
     "metadata": {},
     "output_type": "execute_result"
    }
   ],
   "source": [
    "model = smf.ols(\"y~v3\", data=nir)\n",
    "result = model.fit()\n",
    "yhat3 = yhat2 + result.fittedvalues\n",
    "residual3 = result.resid\n",
    "np.corrcoef(octane, yhat3)[0,1]"
   ]
  },
  {
   "cell_type": "markdown",
   "metadata": {},
   "source": [
    "## This is end of our second last tutorial.\n",
    "\n",
    "- Good luck with your presentation and empirical project!\n",
    "- As Yong said, if you need more help, please reach him so that more consultations can be organized."
   ]
  }
 ],
 "metadata": {
  "authors": [
   {
    "name": "Zheng Fan"
   }
  ],
  "kernelspec": {
   "display_name": "Python 3",
   "language": "python",
   "name": "python3"
  },
  "language_info": {
   "codemirror_mode": {
    "name": "ipython",
    "version": 3
   },
   "file_extension": ".py",
   "mimetype": "text/x-python",
   "name": "python",
   "nbconvert_exporter": "python",
   "pygments_lexer": "ipython3",
   "version": "3.8.5"
  },
  "title": "ECOM90025 Advanced Data Analysis"
 },
 "nbformat": 4,
 "nbformat_minor": 4
}
