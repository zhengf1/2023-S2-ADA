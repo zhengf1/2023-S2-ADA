{
 "cells": [
  {
   "cell_type": "markdown",
   "metadata": {
    "slideshow": {
     "slide_type": "slide"
    }
   },
   "source": [
    "# ECOM90025 ADA: Tutorial 7 in Week 8\n",
    "\n",
    "- Covering materials from week 7 lecture (more on) Treatment Effect: DiD, RDD and IV."
   ]
  },
  {
   "cell_type": "markdown",
   "metadata": {
    "slideshow": {
     "slide_type": "slide"
    }
   },
   "source": [
    "# My contact:\n",
    "- Name: Zheng Fan\n",
    "- Email: fan.z@unimelb.edu.au\n",
    "- Send me an email if you have any general or conceptual questions\n",
    "- I'm also happy to stay for a while after the tutorial.\n",
    "- Consultataion: meet Dr Yong Song every Tuesday 1-2pm at FBE level-3 360.\n",
    "- Special consideration: visit Stop 1."
   ]
  },
  {
   "cell_type": "markdown",
   "metadata": {},
   "source": [
    "# Tutorial participation \n",
    "- You need to actively participate instead of just showing up. \n",
    "- Attendance does not guarantee marks. \n",
    "- You may get a maximum of 10 points out of 11 tutorials.\n",
    "- If you unable to come to school, seek help from Stop 1."
   ]
  },
  {
   "cell_type": "markdown",
   "metadata": {},
   "source": [
    "# Software:\n",
    "- Google Colab is a free online platform where you can execute your code (especially for Python) and write text (LaTeX and Html) without any software installed.\n",
    "- Local Jupyter Lab, which has been demonstrated during the lecture.\n",
    "- Local Jupyter Notebook from Anaconda (My personal preference). Just download Anaconda, and then open Jupyter Notebook.\n",
    "- Other IDE such as PyCharm, but I'm not very comfortable with using PyCharm. From what I know, the code saved in PyCharm is .py but not .ipynb, which may requires some conversion.\n",
    "\n",
    "Although you can always use Colab, It is recommended to have a local machine installed."
   ]
  },
  {
   "cell_type": "markdown",
   "metadata": {},
   "source": [
    "#### You may access my tutorial code via: https://github.com/zhengf1/2023-S2-ADA or Canvas after Wednesday afternoon.\n",
    "- <font color=\"red\">\n",
    "If you are using Google Colab, you can simply copy paste the code; or you can upload this \".ipynb\" notebook file to Google Colab, which would look exactly the same as local Jupyter machine.\n",
    "    </font>"
   ]
  },
  {
   "cell_type": "markdown",
   "metadata": {},
   "source": [
    "# DiD: A short review\n",
    "\n",
    "A famous paper by Card and Krueger (1994), investigates the following question: \n",
    "- Does raising the minimum wage reduce employment?\n",
    "\n",
    "\n",
    "Regression: two “main” effects (time $d_{N o v}$ and state $N J_s$) and one interaction\n",
    "\n",
    "$$ Y_{i s t}=\\alpha+\\gamma \\cdot N J_s+\\lambda \\cdot d_{N o v}+\\delta\\left(N J_S \\cdot d_{N o v}\\right)+\\varepsilon_{i s t} $$\n",
    "\n",
    "where the treatment is $D_{s t}=N J_s \\cdot d_{N o v}$.\n",
    "\n",
    "<table>\n",
    "  <tr>\n",
    "    <th> </th>\n",
    "    <th>$d_{N o v}=0$</th>\n",
    "    <th>$d_{N o v}=1$</th>\n",
    "    <th>Difference</th>\n",
    "  </tr>\n",
    "  <tr>\n",
    "    <th> $N J_s=0$</th>\n",
    "    <th>$\\alpha$</th>\n",
    "    <th>$\\alpha+\\lambda$</th>\n",
    "    <th>$\\lambda$</th>\n",
    "  </tr>\n",
    "     <tr>\n",
    "    <th>$N J_s=1$ </th>\n",
    "    <th>$\\alpha+\\gamma$</th>\n",
    "    <th> $\\alpha+\\gamma+\\lambda+\\delta$ </th>\n",
    "    <th> $\\lambda + \\delta$</th>\n",
    "  </tr>  \n",
    "     <tr>\n",
    "    <th> Difference</th>\n",
    "    <th>$\\gamma$</th>\n",
    "    <th>$\\gamma+\\delta$</th>\n",
    "    <th>$\\delta$</th>\n",
    "  </tr>\n",
    "</table>\n"
   ]
  },
  {
   "cell_type": "markdown",
   "metadata": {},
   "source": [
    "<img src='did.jpg' width=500>"
   ]
  },
  {
   "cell_type": "markdown",
   "metadata": {},
   "source": [
    "The main identifying assumption of DiD: \n",
    " - common/parallel “trends” in outcomes in treated and control groups."
   ]
  },
  {
   "cell_type": "markdown",
   "metadata": {},
   "source": [
    "# Housekeeping code to start with"
   ]
  },
  {
   "cell_type": "code",
   "execution_count": 1,
   "metadata": {},
   "outputs": [],
   "source": [
    "import pandas as pd\n",
    "import numpy as np\n",
    "import plotly.express as px\n",
    "import plotly.graph_objects as go\n",
    "from scipy.stats import chi2_contingency\n",
    "import statsmodels.formula.api as smf\n",
    "import statsmodels.api as sm\n",
    "import matplotlib.pyplot as plt\n",
    "from statsmodels.nonparametric.smoothers_lowess import lowess"
   ]
  },
  {
   "cell_type": "markdown",
   "metadata": {},
   "source": [
    "# Task 1: DiD: Effect of a Garbage Incinerator on Housing Price.\n",
    "\n",
    "This question is Based on Kiel and McClain (1995). The data is from Wooldridge Example 13.3. The data [description](https://www.dropbox.com/s/mn2iu0gkix0pqii/KIELMC.DES?dl=0) and [raw data](https://www.dropbox.com/s/6nga0ds63zhujwq/KIELMC.raw?dl=0) are provided to you.\n",
    "The variables and their meanings are listed below.\n",
    "\n",
    "Obs:   321\n",
    "\n",
    "1. year:                     1978 or 1981\n",
    "2. age:                      age of house\n",
    "3. agesq:                    age^2\n",
    "4. nbh:                      neighborhood #, 1 to 6\n",
    "5. cbd:                      dist. to central bus. dstrct, feet\n",
    "6. intst:                    dist. to interstate, feet\n",
    "7. lintst:                   log(intst)\n",
    "8. price:                    selling price\n",
    "9. rooms:                    # rooms in house\n",
    "10. area:                     square footage of house\n",
    "11. land:                     square footage lot\n",
    "12. baths:                    # bathrooms\n",
    "13. dist:                     dist. from house to incinerator, feet\n",
    "14. ldist:                    log(dist)\n",
    "15. wind:                     perc. time wind incin. to house\n",
    "16. lprice:                   log(price)\n",
    "17. y81:                      =1 if year == 1981\n",
    "18. larea:                    log(area)\n",
    "19. lland:                    log(land)\n",
    "20. y81ldist:                 y81*ldist\n",
    "21. lintstsq:                 lintst^2\n",
    "22. nearinc:                  =1 if dist <= 15840\n",
    "23. y81nrinc:                 y81*nearinc\n",
    "24. rprice:                   price, 1978 dollars\n",
    "25. lrprice:                  log(rprice)\n",
    "\n",
    "\n",
    "1. Read the data and give proper names to each variable. Note: The raw data is not a CSV, so `read.csv` does not work. What can you do about it?\n",
    "2. Use 1981 data to estimate a linear model of `rprice` on `nearinc`. Why not use `price`?\n",
    "3. Use 1978 data to estimate the same model.\n",
    "4. What is the treatment effect based on the previous two regression results?\n",
    "5. Set up a DiD regression as in the lecture and find the treatment effect."
   ]
  },
  {
   "cell_type": "markdown",
   "metadata": {},
   "source": [
    "**Answer to question 2**: rprice is price measured in 1978 dollars, which is inflation adjusted so that the 1981 and 1978 prices are comparable."
   ]
  },
  {
   "cell_type": "code",
   "execution_count": 2,
   "metadata": {},
   "outputs": [
    {
     "name": "stdout",
     "output_type": "stream",
     "text": [
      "<class 'pandas.core.frame.DataFrame'>\n",
      "RangeIndex: 321 entries, 0 to 320\n",
      "Data columns (total 25 columns):\n",
      " #   Column    Non-Null Count  Dtype  \n",
      "---  ------    --------------  -----  \n",
      " 0   year      321 non-null    int64  \n",
      " 1   age       321 non-null    int64  \n",
      " 2   agesq     321 non-null    int64  \n",
      " 3   nbh       321 non-null    int64  \n",
      " 4   cbd       321 non-null    int64  \n",
      " 5   intst     321 non-null    int64  \n",
      " 6   lintst    321 non-null    float64\n",
      " 7   price     321 non-null    int64  \n",
      " 8   rooms     321 non-null    int64  \n",
      " 9   area      321 non-null    int64  \n",
      " 10  land      321 non-null    int64  \n",
      " 11  baths     321 non-null    int64  \n",
      " 12  dist      321 non-null    int64  \n",
      " 13  ldist     321 non-null    float64\n",
      " 14  wind      321 non-null    int64  \n",
      " 15  lprice    321 non-null    float64\n",
      " 16  y81       321 non-null    int64  \n",
      " 17  larea     321 non-null    float64\n",
      " 18  lland     321 non-null    float64\n",
      " 19  y81ldist  321 non-null    float64\n",
      " 20  lintstsq  321 non-null    float64\n",
      " 21  nearinc   321 non-null    int64  \n",
      " 22  y81nrinc  321 non-null    int64  \n",
      " 23  rprice    321 non-null    float64\n",
      " 24  lrprice   321 non-null    float64\n",
      "dtypes: float64(9), int64(16)\n",
      "memory usage: 62.8 KB\n"
     ]
    }
   ],
   "source": [
    "data = pd.read_csv(\"https://www.dropbox.com/scl/fi/6grt5efg3v9ihopu4vky0/KIELMC.csv?rlkey=vmtq4ub25gtnn620x65vtgo6d&dl=1\")\n",
    "data.info()"
   ]
  },
  {
   "cell_type": "code",
   "execution_count": 3,
   "metadata": {},
   "outputs": [
    {
     "data": {
      "text/html": [
       "<div>\n",
       "<style scoped>\n",
       "    .dataframe tbody tr th:only-of-type {\n",
       "        vertical-align: middle;\n",
       "    }\n",
       "\n",
       "    .dataframe tbody tr th {\n",
       "        vertical-align: top;\n",
       "    }\n",
       "\n",
       "    .dataframe thead th {\n",
       "        text-align: right;\n",
       "    }\n",
       "</style>\n",
       "<table border=\"1\" class=\"dataframe\">\n",
       "  <thead>\n",
       "    <tr style=\"text-align: right;\">\n",
       "      <th></th>\n",
       "      <th>year</th>\n",
       "      <th>age</th>\n",
       "      <th>agesq</th>\n",
       "      <th>nbh</th>\n",
       "      <th>cbd</th>\n",
       "      <th>intst</th>\n",
       "      <th>lintst</th>\n",
       "      <th>price</th>\n",
       "      <th>rooms</th>\n",
       "      <th>area</th>\n",
       "      <th>...</th>\n",
       "      <th>lprice</th>\n",
       "      <th>y81</th>\n",
       "      <th>larea</th>\n",
       "      <th>lland</th>\n",
       "      <th>y81ldist</th>\n",
       "      <th>lintstsq</th>\n",
       "      <th>nearinc</th>\n",
       "      <th>y81nrinc</th>\n",
       "      <th>rprice</th>\n",
       "      <th>lrprice</th>\n",
       "    </tr>\n",
       "  </thead>\n",
       "  <tbody>\n",
       "    <tr>\n",
       "      <th>0</th>\n",
       "      <td>1978</td>\n",
       "      <td>48</td>\n",
       "      <td>2304</td>\n",
       "      <td>4</td>\n",
       "      <td>3000</td>\n",
       "      <td>1000</td>\n",
       "      <td>6.9078</td>\n",
       "      <td>60000</td>\n",
       "      <td>7</td>\n",
       "      <td>1660</td>\n",
       "      <td>...</td>\n",
       "      <td>11.00210</td>\n",
       "      <td>0</td>\n",
       "      <td>7.414573</td>\n",
       "      <td>8.429017</td>\n",
       "      <td>0.0</td>\n",
       "      <td>47.71770</td>\n",
       "      <td>1</td>\n",
       "      <td>0</td>\n",
       "      <td>60000.0</td>\n",
       "      <td>11.00210</td>\n",
       "    </tr>\n",
       "    <tr>\n",
       "      <th>1</th>\n",
       "      <td>1978</td>\n",
       "      <td>83</td>\n",
       "      <td>6889</td>\n",
       "      <td>4</td>\n",
       "      <td>4000</td>\n",
       "      <td>1000</td>\n",
       "      <td>6.9078</td>\n",
       "      <td>40000</td>\n",
       "      <td>6</td>\n",
       "      <td>2612</td>\n",
       "      <td>...</td>\n",
       "      <td>10.59663</td>\n",
       "      <td>0</td>\n",
       "      <td>7.867871</td>\n",
       "      <td>9.032409</td>\n",
       "      <td>0.0</td>\n",
       "      <td>47.71770</td>\n",
       "      <td>1</td>\n",
       "      <td>0</td>\n",
       "      <td>40000.0</td>\n",
       "      <td>10.59663</td>\n",
       "    </tr>\n",
       "    <tr>\n",
       "      <th>2</th>\n",
       "      <td>1978</td>\n",
       "      <td>58</td>\n",
       "      <td>3364</td>\n",
       "      <td>4</td>\n",
       "      <td>4000</td>\n",
       "      <td>1000</td>\n",
       "      <td>6.9078</td>\n",
       "      <td>34000</td>\n",
       "      <td>6</td>\n",
       "      <td>1144</td>\n",
       "      <td>...</td>\n",
       "      <td>10.43412</td>\n",
       "      <td>0</td>\n",
       "      <td>7.042286</td>\n",
       "      <td>8.517193</td>\n",
       "      <td>0.0</td>\n",
       "      <td>47.71770</td>\n",
       "      <td>1</td>\n",
       "      <td>0</td>\n",
       "      <td>34000.0</td>\n",
       "      <td>10.43412</td>\n",
       "    </tr>\n",
       "    <tr>\n",
       "      <th>3</th>\n",
       "      <td>1978</td>\n",
       "      <td>11</td>\n",
       "      <td>121</td>\n",
       "      <td>4</td>\n",
       "      <td>4000</td>\n",
       "      <td>1000</td>\n",
       "      <td>6.9078</td>\n",
       "      <td>63900</td>\n",
       "      <td>5</td>\n",
       "      <td>1136</td>\n",
       "      <td>...</td>\n",
       "      <td>11.06507</td>\n",
       "      <td>0</td>\n",
       "      <td>7.035269</td>\n",
       "      <td>9.210340</td>\n",
       "      <td>0.0</td>\n",
       "      <td>47.71770</td>\n",
       "      <td>1</td>\n",
       "      <td>0</td>\n",
       "      <td>63900.0</td>\n",
       "      <td>11.06507</td>\n",
       "    </tr>\n",
       "    <tr>\n",
       "      <th>4</th>\n",
       "      <td>1978</td>\n",
       "      <td>48</td>\n",
       "      <td>2304</td>\n",
       "      <td>4</td>\n",
       "      <td>4000</td>\n",
       "      <td>2000</td>\n",
       "      <td>7.6009</td>\n",
       "      <td>44000</td>\n",
       "      <td>5</td>\n",
       "      <td>1868</td>\n",
       "      <td>...</td>\n",
       "      <td>10.69195</td>\n",
       "      <td>0</td>\n",
       "      <td>7.532624</td>\n",
       "      <td>9.210340</td>\n",
       "      <td>0.0</td>\n",
       "      <td>57.77368</td>\n",
       "      <td>1</td>\n",
       "      <td>0</td>\n",
       "      <td>44000.0</td>\n",
       "      <td>10.69195</td>\n",
       "    </tr>\n",
       "  </tbody>\n",
       "</table>\n",
       "<p>5 rows × 25 columns</p>\n",
       "</div>"
      ],
      "text/plain": [
       "   year  age  agesq  nbh   cbd  intst  lintst  price  rooms  area  ...  \\\n",
       "0  1978   48   2304    4  3000   1000  6.9078  60000      7  1660  ...   \n",
       "1  1978   83   6889    4  4000   1000  6.9078  40000      6  2612  ...   \n",
       "2  1978   58   3364    4  4000   1000  6.9078  34000      6  1144  ...   \n",
       "3  1978   11    121    4  4000   1000  6.9078  63900      5  1136  ...   \n",
       "4  1978   48   2304    4  4000   2000  7.6009  44000      5  1868  ...   \n",
       "\n",
       "     lprice  y81     larea     lland  y81ldist  lintstsq  nearinc  y81nrinc  \\\n",
       "0  11.00210    0  7.414573  8.429017       0.0  47.71770        1         0   \n",
       "1  10.59663    0  7.867871  9.032409       0.0  47.71770        1         0   \n",
       "2  10.43412    0  7.042286  8.517193       0.0  47.71770        1         0   \n",
       "3  11.06507    0  7.035269  9.210340       0.0  47.71770        1         0   \n",
       "4  10.69195    0  7.532624  9.210340       0.0  57.77368        1         0   \n",
       "\n",
       "    rprice   lrprice  \n",
       "0  60000.0  11.00210  \n",
       "1  40000.0  10.59663  \n",
       "2  34000.0  10.43412  \n",
       "3  63900.0  11.06507  \n",
       "4  44000.0  10.69195  \n",
       "\n",
       "[5 rows x 25 columns]"
      ]
     },
     "execution_count": 3,
     "metadata": {},
     "output_type": "execute_result"
    }
   ],
   "source": [
    "data.head()"
   ]
  },
  {
   "cell_type": "code",
   "execution_count": 4,
   "metadata": {},
   "outputs": [
    {
     "name": "stdout",
     "output_type": "stream",
     "text": [
      "                            OLS Regression Results                            \n",
      "==============================================================================\n",
      "Dep. Variable:                 rprice   R-squared:                       0.165\n",
      "Model:                            OLS   Adj. R-squared:                  0.159\n",
      "Method:                 Least Squares   F-statistic:                     27.73\n",
      "Date:                Tue, 12 Sep 2023   Prob (F-statistic):           5.14e-07\n",
      "Time:                        17:37:56   Log-Likelihood:                -1670.1\n",
      "No. Observations:                 142   AIC:                             3344.\n",
      "Df Residuals:                     140   BIC:                             3350.\n",
      "Df Model:                           1                                         \n",
      "Covariance Type:            nonrobust                                         \n",
      "==============================================================================\n",
      "                 coef    std err          t      P>|t|      [0.025      0.975]\n",
      "------------------------------------------------------------------------------\n",
      "Intercept   1.013e+05   3093.027     32.754      0.000    9.52e+04    1.07e+05\n",
      "nearinc    -3.069e+04   5827.709     -5.266      0.000   -4.22e+04   -1.92e+04\n",
      "==============================================================================\n",
      "Omnibus:                       23.943   Durbin-Watson:                   1.380\n",
      "Prob(Omnibus):                  0.000   Jarque-Bera (JB):               38.601\n",
      "Skew:                           0.832   Prob(JB):                     4.15e-09\n",
      "Kurtosis:                       4.939   Cond. No.                         2.44\n",
      "==============================================================================\n",
      "\n",
      "Notes:\n",
      "[1] Standard Errors assume that the covariance matrix of the errors is correctly specified.\n"
     ]
    }
   ],
   "source": [
    "fit1981 = smf.ols(formula=\"rprice ~ nearinc\", data=data[data['y81'] == 1]).fit()\n",
    "\n",
    "# Display the summary of the model\n",
    "print(fit1981.summary())"
   ]
  },
  {
   "cell_type": "code",
   "execution_count": 5,
   "metadata": {},
   "outputs": [
    {
     "name": "stdout",
     "output_type": "stream",
     "text": [
      "                            OLS Regression Results                            \n",
      "==============================================================================\n",
      "Dep. Variable:                 rprice   R-squared:                       0.082\n",
      "Model:                            OLS   Adj. R-squared:                  0.076\n",
      "Method:                 Least Squares   F-statistic:                     15.74\n",
      "Date:                Tue, 12 Sep 2023   Prob (F-statistic):           0.000105\n",
      "Time:                        17:37:56   Log-Likelihood:                -2094.9\n",
      "No. Observations:                 179   AIC:                             4194.\n",
      "Df Residuals:                     177   BIC:                             4200.\n",
      "Df Model:                           1                                         \n",
      "Covariance Type:            nonrobust                                         \n",
      "==============================================================================\n",
      "                 coef    std err          t      P>|t|      [0.025      0.975]\n",
      "------------------------------------------------------------------------------\n",
      "Intercept   8.252e+04   2653.790     31.094      0.000    7.73e+04    8.78e+04\n",
      "nearinc    -1.882e+04   4744.594     -3.968      0.000   -2.82e+04   -9461.117\n",
      "==============================================================================\n",
      "Omnibus:                      173.455   Durbin-Watson:                   1.707\n",
      "Prob(Omnibus):                  0.000   Jarque-Bera (JB):             4526.710\n",
      "Skew:                           3.520   Prob(JB):                         0.00\n",
      "Kurtosis:                      26.609   Cond. No.                         2.42\n",
      "==============================================================================\n",
      "\n",
      "Notes:\n",
      "[1] Standard Errors assume that the covariance matrix of the errors is correctly specified.\n"
     ]
    }
   ],
   "source": [
    "fit1978 = smf.ols(formula=\"rprice ~ nearinc\", data=data[data['y81'] == 0]).fit()\n",
    "\n",
    "# Display the summary of the model\n",
    "print(fit1978.summary())"
   ]
  },
  {
   "cell_type": "code",
   "execution_count": 6,
   "metadata": {},
   "outputs": [
    {
     "name": "stdout",
     "output_type": "stream",
     "text": [
      "                            OLS Regression Results                            \n",
      "==============================================================================\n",
      "Dep. Variable:                 rprice   R-squared:                       0.174\n",
      "Model:                            OLS   Adj. R-squared:                  0.166\n",
      "Method:                 Least Squares   F-statistic:                     22.25\n",
      "Date:                Tue, 12 Sep 2023   Prob (F-statistic):           4.22e-13\n",
      "Time:                        17:37:56   Log-Likelihood:                -3765.2\n",
      "No. Observations:                 321   AIC:                             7538.\n",
      "Df Residuals:                     317   BIC:                             7554.\n",
      "Df Model:                           3                                         \n",
      "Covariance Type:            nonrobust                                         \n",
      "===============================================================================\n",
      "                  coef    std err          t      P>|t|      [0.025      0.975]\n",
      "-------------------------------------------------------------------------------\n",
      "Intercept    8.252e+04   2726.910     30.260      0.000    7.72e+04    8.79e+04\n",
      "nearinc     -1.882e+04   4875.322     -3.861      0.000   -2.84e+04   -9232.293\n",
      "y81          1.879e+04   4050.065      4.640      0.000    1.08e+04    2.68e+04\n",
      "nearinc:y81 -1.186e+04   7456.646     -1.591      0.113   -2.65e+04    2806.867\n",
      "==============================================================================\n",
      "Omnibus:                      192.562   Durbin-Watson:                   1.557\n",
      "Prob(Omnibus):                  0.000   Jarque-Bera (JB):             2462.071\n",
      "Skew:                           2.217   Prob(JB):                         0.00\n",
      "Kurtosis:                      15.822   Cond. No.                         6.05\n",
      "==============================================================================\n",
      "\n",
      "Notes:\n",
      "[1] Standard Errors assume that the covariance matrix of the errors is correctly specified.\n"
     ]
    }
   ],
   "source": [
    "fit_did = smf.ols(formula=\"rprice ~ nearinc * y81\", data=data).fit()\n",
    "\n",
    "# Display the summary of the model\n",
    "print(fit_did.summary())"
   ]
  },
  {
   "cell_type": "markdown",
   "metadata": {},
   "source": [
    "### To make it look better, I put them in the same table"
   ]
  },
  {
   "cell_type": "markdown",
   "metadata": {},
   "source": [
    "<table>\n",
    "    <tr>\n",
    "        <td> </td>\n",
    "        <td> </td>\n",
    "        <td>rprice </td>\n",
    "        <td>   </td>\n",
    "    </tr>\n",
    "    <tr>\n",
    "        <td> </td>\n",
    "        <td>1981</td>\n",
    "        <td>1978</td>\n",
    "        <td>DiD</td>\n",
    "    </tr>\n",
    "    <tr>\n",
    "        <td>Constant</td>\n",
    "        <td>101,307.50$^{***}$</td>\n",
    "        <td>82,517.23$^{***}$</td>\n",
    "        <td>82,517.23$^{***}$</td>\n",
    "    </tr>\n",
    "    <tr>\n",
    "        <td></td>\n",
    "        <td>(3,093.03)</td>\n",
    "        <td>(2,653.79)</td>\n",
    "        <td>(2,726.91)</td>\n",
    "    </tr>\n",
    "    <tr>\n",
    "        <td></td>\n",
    "        <td></td>\n",
    "        <td></td>\n",
    "        <td></td>\n",
    "    </tr>\n",
    "    <tr>\n",
    "        <td>nearinc</td>\n",
    "        <td>$-$30,688.27$^{***}$</td>\n",
    "        <td>$-$18,824.37$^{***}$</td>\n",
    "        <td>$-$18,824.37$^{***}$</td>\n",
    "    </tr>\n",
    "    <tr>\n",
    "        <td></td>\n",
    "        <td>(5,827.71)</td>\n",
    "        <td>(4,744.59)</td>\n",
    "        <td>(4,875.32)</td>\n",
    "    </tr>\n",
    "    <tr>\n",
    "        <td></td>\n",
    "        <td></td>\n",
    "        <td></td>\n",
    "        <td></td>\n",
    "    </tr>\n",
    "    <tr>\n",
    "        <td>y81</td>\n",
    "        <td></td>\n",
    "        <td></td>\n",
    "        <td>18,790.29$^{***}$</td>\n",
    "    </tr>\n",
    "    <tr>\n",
    "        <td></td>\n",
    "        <td></td>\n",
    "        <td></td>\n",
    "        <td>(4,050.07)</td>\n",
    "    </tr>\n",
    "    <tr>\n",
    "        <td></td>\n",
    "        <td></td>\n",
    "        <td></td>\n",
    "        <td></td>\n",
    "    </tr>\n",
    "    <tr>\n",
    "        <td>nearinc:y81</td>\n",
    "        <td></td>\n",
    "        <td></td>\n",
    "        <td>$-$11,863.90</td>\n",
    "    </tr>\n",
    "    <tr>\n",
    "        <td></td>\n",
    "        <td></td>\n",
    "        <td></td>\n",
    "        <td>(7,456.65)</td>\n",
    "    </tr>\n",
    "    <tr>\n",
    "        <td></td>\n",
    "        <td></td>\n",
    "        <td></td>\n",
    "        <td></td>\n",
    "    </tr>\n",
    "    <tr>\n",
    "        <td>Observations</td>\n",
    "        <td>142</td>\n",
    "        <td>179</td>\n",
    "        <td>321</td>\n",
    "    </tr>\n",
    "    <tr>\n",
    "        <td>Log Likelihood</td>\n",
    "        <td>$-$1,671.10</td>\n",
    "        <td>$-$2,095.87</td>\n",
    "        <td>$-$3,766.23</td>\n",
    "    </tr>\n",
    "    <tr>\n",
    "        <td>Akaike Inf. Crit.</td>\n",
    "        <td>3,346.19</td>\n",
    "        <td>4,195.73</td>\n",
    "        <td>7,540.46</td>\n",
    "    </tr>\n",
    "</table>\n",
    "Note: $p<0.1$$^{*}$; $p<0.05$$^{**}$; $p<0.01$$^{***}$"
   ]
  },
  {
   "cell_type": "code",
   "execution_count": 7,
   "metadata": {},
   "outputs": [
    {
     "data": {
      "text/plain": [
       "-11863.903260384606"
      ]
     },
     "execution_count": 7,
     "metadata": {},
     "output_type": "execute_result"
    }
   ],
   "source": [
    "fit1981.params['nearinc'] - fit1978.params['nearinc']"
   ]
  },
  {
   "cell_type": "markdown",
   "metadata": {},
   "source": [
    "which is exactly the same as the coefficient of the interactive term in the DiD regression."
   ]
  },
  {
   "cell_type": "markdown",
   "metadata": {},
   "source": [
    "### Why the difference implies a DiD?\n",
    "    \n",
    "$$\\text{rprice}_{81}=\\gamma_{0,81}+\\gamma_{1,81} \\text {nearinc}_{81}+u$$\n",
    "\n",
    "where $\\gamma_{1,81} = \\overline{\\text{rprice}}_{81,nr}-\\overline{\\text{rprice}}_{81,fr}$\n",
    "\n",
    "  $$\\text{rprice}_{78}=\\gamma_{0,78}+\\gamma_{1,78} \\text {nearinc}_{78}+u$$\n",
    "  \n",
    "where $\\gamma_{1,78} = \\overline{\\text{rprice}}_{78,nr}-\\overline{\\text{rprice}}_{78,fr}$\n",
    "\n",
    "Therefore, the difference is just \n",
    "\n",
    "$$\n",
    "    \\hat{\\delta} = \\gamma_{1,81}-\\gamma_{1,78}=\\left(\\overline{\\text{rprice}}_{81,nr}-\\overline{\\text{rprice}}_{81,fr}\\right)-\\left( \\overline{\\text{rprice}}_{78,nr}-\\overline{\\text{rprice}}_{78,fr}\\right)\n",
    "$$\n",
    "\n",
    "DiD estimator.\n",
    "\n",
    "Can you show this with a diagram and explain why this is a DiD?"
   ]
  },
  {
   "cell_type": "markdown",
   "metadata": {},
   "source": [
    "# Task 2: RDD: Regression Discontinuity Design\n",
    "\n",
    "Let's have a competition to see who can estimate the local ATE more precisely. The true value will be revealed after the competition.\n",
    "\n",
    "The winner will get **<font color=\"red\">a 30-mins chat with Yong over a free coffee. Show me your result.</font>**\n",
    "\n",
    "The data is [here](https://www.dropbox.com/s/9py4ddgs06e4v0m/sy_RDD_sim.csv?dl=0).\n",
    "- $y$ is the output\n",
    "- $d$ is the treatment\n",
    "- $r$ is the running variable.\n",
    "\n",
    "r = 0: treatment take place"
   ]
  },
  {
   "cell_type": "code",
   "execution_count": 8,
   "metadata": {
    "scrolled": false
   },
   "outputs": [
    {
     "name": "stdout",
     "output_type": "stream",
     "text": [
      "<class 'pandas.core.frame.DataFrame'>\n",
      "RangeIndex: 1000 entries, 0 to 999\n",
      "Data columns (total 3 columns):\n",
      " #   Column  Non-Null Count  Dtype  \n",
      "---  ------  --------------  -----  \n",
      " 0   y       1000 non-null   float64\n",
      " 1   r       1000 non-null   float64\n",
      " 2   d       1000 non-null   bool   \n",
      "dtypes: bool(1), float64(2)\n",
      "memory usage: 16.7 KB\n"
     ]
    }
   ],
   "source": [
    "df = pd.read_csv(\"https://www.dropbox.com/scl/fi/ztkrmzhx0xm3ef8vy0vh6/sy_sim.csv?rlkey=b44jcrh2epdobxdq4n02q13k6&dl=1\")\n",
    "df.info()"
   ]
  },
  {
   "cell_type": "code",
   "execution_count": 9,
   "metadata": {},
   "outputs": [
    {
     "data": {
      "text/html": [
       "<div>\n",
       "<style scoped>\n",
       "    .dataframe tbody tr th:only-of-type {\n",
       "        vertical-align: middle;\n",
       "    }\n",
       "\n",
       "    .dataframe tbody tr th {\n",
       "        vertical-align: top;\n",
       "    }\n",
       "\n",
       "    .dataframe thead th {\n",
       "        text-align: right;\n",
       "    }\n",
       "</style>\n",
       "<table border=\"1\" class=\"dataframe\">\n",
       "  <thead>\n",
       "    <tr style=\"text-align: right;\">\n",
       "      <th></th>\n",
       "      <th>y</th>\n",
       "      <th>r</th>\n",
       "      <th>d</th>\n",
       "    </tr>\n",
       "  </thead>\n",
       "  <tbody>\n",
       "    <tr>\n",
       "      <th>0</th>\n",
       "      <td>0.454863</td>\n",
       "      <td>1.048558</td>\n",
       "      <td>True</td>\n",
       "    </tr>\n",
       "    <tr>\n",
       "      <th>1</th>\n",
       "      <td>0.877792</td>\n",
       "      <td>0.471235</td>\n",
       "      <td>True</td>\n",
       "    </tr>\n",
       "    <tr>\n",
       "      <th>2</th>\n",
       "      <td>-3.140457</td>\n",
       "      <td>-0.062233</td>\n",
       "      <td>False</td>\n",
       "    </tr>\n",
       "    <tr>\n",
       "      <th>3</th>\n",
       "      <td>-2.878454</td>\n",
       "      <td>-0.959475</td>\n",
       "      <td>False</td>\n",
       "    </tr>\n",
       "    <tr>\n",
       "      <th>4</th>\n",
       "      <td>-1.529287</td>\n",
       "      <td>-1.235128</td>\n",
       "      <td>False</td>\n",
       "    </tr>\n",
       "    <tr>\n",
       "      <th>...</th>\n",
       "      <td>...</td>\n",
       "      <td>...</td>\n",
       "      <td>...</td>\n",
       "    </tr>\n",
       "    <tr>\n",
       "      <th>995</th>\n",
       "      <td>0.152051</td>\n",
       "      <td>0.115577</td>\n",
       "      <td>True</td>\n",
       "    </tr>\n",
       "    <tr>\n",
       "      <th>996</th>\n",
       "      <td>-0.723935</td>\n",
       "      <td>-0.162085</td>\n",
       "      <td>False</td>\n",
       "    </tr>\n",
       "    <tr>\n",
       "      <th>997</th>\n",
       "      <td>0.910535</td>\n",
       "      <td>0.373434</td>\n",
       "      <td>True</td>\n",
       "    </tr>\n",
       "    <tr>\n",
       "      <th>998</th>\n",
       "      <td>-0.012784</td>\n",
       "      <td>-1.490802</td>\n",
       "      <td>False</td>\n",
       "    </tr>\n",
       "    <tr>\n",
       "      <th>999</th>\n",
       "      <td>-0.481153</td>\n",
       "      <td>1.511807</td>\n",
       "      <td>True</td>\n",
       "    </tr>\n",
       "  </tbody>\n",
       "</table>\n",
       "<p>1000 rows × 3 columns</p>\n",
       "</div>"
      ],
      "text/plain": [
       "            y         r      d\n",
       "0    0.454863  1.048558   True\n",
       "1    0.877792  0.471235   True\n",
       "2   -3.140457 -0.062233  False\n",
       "3   -2.878454 -0.959475  False\n",
       "4   -1.529287 -1.235128  False\n",
       "..        ...       ...    ...\n",
       "995  0.152051  0.115577   True\n",
       "996 -0.723935 -0.162085  False\n",
       "997  0.910535  0.373434   True\n",
       "998 -0.012784 -1.490802  False\n",
       "999 -0.481153  1.511807   True\n",
       "\n",
       "[1000 rows x 3 columns]"
      ]
     },
     "execution_count": 9,
     "metadata": {},
     "output_type": "execute_result"
    }
   ],
   "source": [
    "df"
   ]
  },
  {
   "cell_type": "code",
   "execution_count": 10,
   "metadata": {},
   "outputs": [
    {
     "data": {
      "text/plain": [
       "[<matplotlib.lines.Line2D at 0x7f82884be220>]"
      ]
     },
     "execution_count": 10,
     "metadata": {},
     "output_type": "execute_result"
    },
    {
     "data": {
      "image/png": "[encoded data removed]",
      "text/plain": [
       "<Figure size 432x288 with 1 Axes>"
      ]
     },
     "metadata": {
      "needs_background": "light"
     },
     "output_type": "display_data"
    }
   ],
   "source": [
    "sorted_data = df.sort_values(by=\"r\")\n",
    "plt.plot(sorted_data[\"r\"], sorted_data[\"y\"], color='blue', label='d = TRUE')"
   ]
  },
  {
   "cell_type": "markdown",
   "metadata": {},
   "source": [
    "### Brute force: try DiD:"
   ]
  },
  {
   "cell_type": "code",
   "execution_count": 11,
   "metadata": {},
   "outputs": [
    {
     "name": "stdout",
     "output_type": "stream",
     "text": [
      "                            OLS Regression Results                            \n",
      "==============================================================================\n",
      "Dep. Variable:                      y   R-squared:                       0.342\n",
      "Model:                            OLS   Adj. R-squared:                  0.340\n",
      "Method:                 Least Squares   F-statistic:                     172.5\n",
      "Date:                Tue, 12 Sep 2023   Prob (F-statistic):           4.92e-90\n",
      "Time:                        17:37:58   Log-Likelihood:                -1483.4\n",
      "No. Observations:                1000   AIC:                             2975.\n",
      "Df Residuals:                     996   BIC:                             2994.\n",
      "Df Model:                           3                                         \n",
      "Covariance Type:            nonrobust                                         \n",
      "===============================================================================\n",
      "                  coef    std err          t      P>|t|      [0.025      0.975]\n",
      "-------------------------------------------------------------------------------\n",
      "Intercept      -1.2890      0.079    -16.273      0.000      -1.444      -1.134\n",
      "d[T.True]       1.8227      0.115     15.908      0.000       1.598       2.048\n",
      "r               0.1103      0.098      1.128      0.260      -0.082       0.302\n",
      "r:d[T.True]    -0.7495      0.142     -5.282      0.000      -1.028      -0.471\n",
      "==============================================================================\n",
      "Omnibus:                        5.227   Durbin-Watson:                   1.948\n",
      "Prob(Omnibus):                  0.073   Jarque-Bera (JB):                5.272\n",
      "Skew:                          -0.135   Prob(JB):                       0.0717\n",
      "Kurtosis:                       3.231   Cond. No.                         6.42\n",
      "==============================================================================\n",
      "\n",
      "Notes:\n",
      "[1] Standard Errors assume that the covariance matrix of the errors is correctly specified.\n"
     ]
    }
   ],
   "source": [
    "model_ols = smf.ols(formula=\"y ~ r * d\", data=df).fit()\n",
    "\n",
    "# Display the summary of the model\n",
    "print(model_ols.summary())"
   ]
  },
  {
   "cell_type": "markdown",
   "metadata": {},
   "source": [
    "### Try a subset of data around the treatment"
   ]
  },
  {
   "cell_type": "code",
   "execution_count": 12,
   "metadata": {
    "scrolled": true
   },
   "outputs": [
    {
     "data": {
      "image/png": "[encoded data removed]",
      "text/plain": [
       "<Figure size 432x288 with 1 Axes>"
      ]
     },
     "metadata": {
      "needs_background": "light"
     },
     "output_type": "display_data"
    }
   ],
   "source": [
    "w = np.linspace(0.1, 3, num=50)\n",
    "ate = np.zeros(50)\n",
    "\n",
    "for ii in range(50):\n",
    "    model = smf.ols(formula=\"y ~ r * d\", data=df[np.abs(df['r']) < w[ii]]).fit()\n",
    "    ate[ii] = model.params['d[T.True]']\n",
    "\n",
    "plt.plot(w, ate, color='red', linewidth=2)\n",
    "plt.xlabel('w')\n",
    "plt.ylabel('ATE')\n",
    "plt.show()"
   ]
  },
  {
   "cell_type": "markdown",
   "metadata": {},
   "source": [
    "but the problem is what is the optimal range for neghbours? It can be arbitraty. We may never know the true TE."
   ]
  },
  {
   "cell_type": "markdown",
   "metadata": {},
   "source": [
    "### Try local neighbour mean"
   ]
  },
  {
   "cell_type": "code",
   "execution_count": 13,
   "metadata": {},
   "outputs": [],
   "source": [
    "# a more straight and naive way (but not theoretically supported)\n",
    "df_subset = df[np.abs(df[\"r\"])<0.2] # consider the subset around 0.1 away from the treatment"
   ]
  },
  {
   "cell_type": "code",
   "execution_count": 14,
   "metadata": {},
   "outputs": [
    {
     "data": {
      "text/plain": [
       "0.9318273727378483"
      ]
     },
     "execution_count": 14,
     "metadata": {},
     "output_type": "execute_result"
    }
   ],
   "source": [
    "df_subset_post = df_subset[df_subset[\"r\"]>0] # the mean after treatment\n",
    "df_subset_pre = df_subset[df_subset[\"r\"]<0] # the mean after treatment\n",
    "np.mean(df_subset_post[\"y\"]) - np.mean(df_subset_pre[\"y\"])"
   ]
  },
  {
   "cell_type": "markdown",
   "metadata": {},
   "source": [
    "Again, the problem is what is the optimal range for neghbours? It can be arbitraty. "
   ]
  },
  {
   "cell_type": "markdown",
   "metadata": {},
   "source": [
    "### Try LOESS (LOWESS): nonparametric estimation"
   ]
  },
  {
   "cell_type": "code",
   "execution_count": 15,
   "metadata": {},
   "outputs": [],
   "source": [
    "# Subset data for d = TRUE and fit LOESS model\n",
    "subset_data_a = df[df['d']] # the post treatment group (r>0)\n",
    "fita = lowess(subset_data_a['y'], subset_data_a['r'])\n",
    "\n",
    "# Subset data for d = FALSE and fit LOESS model\n",
    "subset_data_b = df[~df['d']] # the pre treatment group (r<0)\n",
    "fitb = lowess(subset_data_b['y'], subset_data_b['r'])"
   ]
  },
  {
   "cell_type": "code",
   "execution_count": 16,
   "metadata": {
    "scrolled": true
   },
   "outputs": [
    {
     "data": {
      "image/png": "[encoded data removed]",
      "text/plain": [
       "<Figure size 432x288 with 1 Axes>"
      ]
     },
     "metadata": {
      "needs_background": "light"
     },
     "output_type": "display_data"
    }
   ],
   "source": [
    "# plot r verse y prediction\n",
    "plt.plot(fita[:, 0], fita[:, 1], color='blue', label='d = TRUE')\n",
    "plt.plot(fitb[:, 0], fitb[:, 1], color='orange', label='d = FALSE')\n",
    "plt.xlabel('r')\n",
    "plt.ylabel('Predicted y')\n",
    "plt.legend()\n",
    "plt.show()"
   ]
  },
  {
   "cell_type": "markdown",
   "metadata": {},
   "source": [
    "### use the difference b/t the fitted value at 2-0.01, and 2+0.01"
   ]
  },
  {
   "cell_type": "code",
   "execution_count": 17,
   "metadata": {},
   "outputs": [
    {
     "data": {
      "text/plain": [
       "0.6300864414068988"
      ]
     },
     "execution_count": 17,
     "metadata": {},
     "output_type": "execute_result"
    }
   ],
   "source": [
    "preda = fita[:, 1] # the right curve (blue)\n",
    "predb = fitb[:, 1] # the left curve (yellow)\n",
    "\n",
    "preda[0] - predb[-1]"
   ]
  },
  {
   "cell_type": "markdown",
   "metadata": {},
   "source": [
    "Somehow, it does not seem to be a good result."
   ]
  },
  {
   "cell_type": "markdown",
   "metadata": {},
   "source": [
    "### The true model is\n",
    "Left:\n",
    "\n",
    "$$ y = a_0 + a_1 * r + a_2 * r^2 $$\n",
    "\n",
    "Right:\n",
    "\n",
    "$$ y = b_0 + b_1 * r + b_2 * r^2  + b_3 * r^3$$\n",
    "\n",
    "When $r=0$, the local ATE is $b_0 - a_0$."
   ]
  },
  {
   "cell_type": "markdown",
   "metadata": {},
   "source": [
    "### Now let's look at how the data was simulated!"
   ]
  },
  {
   "cell_type": "code",
   "execution_count": 18,
   "metadata": {},
   "outputs": [
    {
     "data": {
      "image/png": "[encoded data removed]",
      "text/plain": [
       "<Figure size 432x288 with 1 Axes>"
      ]
     },
     "metadata": {
      "needs_background": "light"
     },
     "output_type": "display_data"
    },
    {
     "name": "stdout",
     "output_type": "stream",
     "text": [
      "Local ATE: 1\n"
     ]
    }
   ],
   "source": [
    "# simulation\n",
    "# left model y = a0 + a1 * r + a2 * r^2\n",
    "# right model y = b0 + b1 * r + b2 * r^2 + b3 * r^3\n",
    "# Given coefficients\n",
    "a0 = -1\n",
    "a1 = 1\n",
    "a2 = 0.5\n",
    "b0 = 0\n",
    "b1 = 0.5\n",
    "b2 = 1\n",
    "b3 = -1\n",
    "\n",
    "# Local ATE\n",
    "local_ate = b0 - a0\n",
    "\n",
    "# Generate synthetic data\n",
    "N = 1000\n",
    "np.random.seed(1523)\n",
    "r = np.random.normal(size=N) * 0.8\n",
    "y = np.zeros(N)\n",
    "ind0 = r <= 0\n",
    "ind1 = r > 0\n",
    "y[ind0] = a0 + a1 * r[ind0] + a2 * r[ind0]**2 + np.random.normal(size=np.sum(ind0))\n",
    "y[ind1] = b0 + b1 * r[ind1] + b2 * r[ind1]**2 + b3 * r[ind1]**3 + np.random.normal(size=np.sum(ind1))\n",
    "\n",
    "# Create scatter plot\n",
    "plt.scatter(r, y, color='red', alpha=0.5)\n",
    "plt.xlabel('r')\n",
    "plt.ylabel('y')\n",
    "plt.title('Scatter Plot of r vs y')\n",
    "plt.show()\n",
    "\n",
    "print(f\"Local ATE: {local_ate}\")"
   ]
  },
  {
   "cell_type": "code",
   "execution_count": 19,
   "metadata": {},
   "outputs": [],
   "source": [
    "tmp = pd.DataFrame({'y': y, 'r': r, 'd': (r>0)})\n",
    "\n",
    "# Save DataFrame to a CSV file (uncomment below)\n",
    "# tmp.to_csv('tmp.csv', index=False)"
   ]
  },
  {
   "cell_type": "markdown",
   "metadata": {},
   "source": [
    "# Task 3: IV\n",
    "\n",
    "IV is well covered in Basic Econometrics. We are happy to help you in consultation if you need more details. The routines in the lecture note shall serve most purposes."
   ]
  },
  {
   "cell_type": "markdown",
   "metadata": {},
   "source": [
    "### Why Exogeneity Assumption Fails?\n",
    "\n",
    "Suppose\n",
    "$$\n",
    "E[\\epsilon \\mid X] \\neq 0\n",
    "$$\n",
    "implies\n",
    "$$\n",
    "\\begin{aligned}\n",
    "E\\left[\\hat{\\beta}_{O L S} \\mid X\\right] & =E\\left[\\left(X^{\\prime} X\\right)^{-1} X^{\\prime} Y \\mid X\\right] \\\\\n",
    "& =E\\left[\\left(X^{\\prime} X\\right)^{-1} X^{\\prime}(X \\beta+\\varepsilon) \\mid X\\right] \\\\\n",
    "& =\\left(X^{\\prime} X\\right)^{-1} X^{\\prime} X \\beta+E\\left[\\left(X^{\\prime} X\\right)^{-1} X^{\\prime} \\varepsilon \\mid X\\right] \\\\\n",
    "& =\\beta+\\underbrace{\\left(X^{\\prime} X\\right)^{-1} X^{\\prime} E[\\varepsilon \\mid X]}_{\\text{bias term}} \\\\\n",
    "& \\neq \\beta\n",
    "\\end{aligned}\n",
    "$$\n",
    "\n",
    "\n",
    "\n",
    "1. Omitted variable bias - linear relationship is correct but an important variable is omitted from the regression\n",
    "2. Reverse causality - the functional form of the regression is incorrect description of the causal mechanism\n",
    "3. Measurement error - attenuation bias if the error was on x\n",
    "4. Sample selection"
   ]
  },
  {
   "cell_type": "markdown",
   "metadata": {},
   "source": [
    "### A brief discussion on IV\n",
    "\n",
    "One of the typical Endogeneity problems in econometrics is **omitted variable bias**, where the missing variable (included in the error term) is correlated with regressors. The solutions are generally including:\n",
    "1. Run a Randomised Controlled Trial (RCT)\n",
    "2. Include the extra variable(s)\n",
    "3. Instrumental Variables\n",
    "\n",
    "IV ($z_i$) requires \n",
    "1. (exogeneity) $E\\left(\\epsilon_i \\mid z_i\\right)=0$\n",
    "2. (relevance) $E\\left(x_i \\mid z_i\\right)=\\pi_0+\\pi_1 z_i$ where $\\pi_1 \\neq 0$"
   ]
  }
 ],
 "metadata": {
  "authors": [
   {
    "name": "Zheng Fan"
   }
  ],
  "kernelspec": {
   "display_name": "Python 3",
   "language": "python",
   "name": "python3"
  },
  "language_info": {
   "codemirror_mode": {
    "name": "ipython",
    "version": 3
   },
   "file_extension": ".py",
   "mimetype": "text/x-python",
   "name": "python",
   "nbconvert_exporter": "python",
   "pygments_lexer": "ipython3",
   "version": "3.8.5"
  },
  "title": "ECOM90025 Advanced Data Analysis"
 },
 "nbformat": 4,
 "nbformat_minor": 4
}
