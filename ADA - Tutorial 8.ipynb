{
 "cells": [
  {
   "cell_type": "markdown",
   "metadata": {
    "slideshow": {
     "slide_type": "slide"
    }
   },
   "source": [
    "# ECOM90025 ADA: Tutorial 8 in Week 9\n",
    "\n",
    "- Covering materials from week 8 lecture: FWL, DML."
   ]
  },
  {
   "cell_type": "markdown",
   "metadata": {
    "slideshow": {
     "slide_type": "slide"
    }
   },
   "source": [
    "# My contact:\n",
    "- Name: Zheng Fan\n",
    "- Email: fan.z@unimelb.edu.au\n",
    "- Send me an email if you have any general or conceptual questions\n",
    "- I'm also happy to stay for a while after the tutorial.\n",
    "- Consultataion: meet Dr Yong Song every Tuesday 1-2pm at FBE level-3 360.\n",
    "- Special consideration: visit Stop 1."
   ]
  },
  {
   "cell_type": "markdown",
   "metadata": {},
   "source": [
    "# Tutorial participation \n",
    "- You need to actively participate instead of just showing up. \n",
    "- Attendance does not guarantee marks. \n",
    "- You may get a maximum of 10 points out of 11 tutorials.\n",
    "- If you unable to come to school, seek help from Stop 1."
   ]
  },
  {
   "cell_type": "markdown",
   "metadata": {},
   "source": [
    "# Software:\n",
    "- Google Colab is a free online platform where you can execute your code (especially for Python) and write text (LaTeX and Html) without any software installed.\n",
    "- Local Jupyter Lab, which has been demonstrated during the lecture.\n",
    "- Local Jupyter Notebook from Anaconda (My personal preference). Just download Anaconda, and then open Jupyter Notebook.\n",
    "- Other IDE such as PyCharm, but I'm not very comfortable with using PyCharm. From what I know, the code saved in PyCharm is .py but not .ipynb, which may requires some conversion.\n",
    "\n",
    "Although you can always use Colab, It is recommended to have a local machine installed."
   ]
  },
  {
   "cell_type": "markdown",
   "metadata": {},
   "source": [
    "#### You may access my tutorial code via: https://github.com/zhengf1/2023-S2-ADA or Canvas after Wednesday afternoon.\n",
    "- <font color=\"red\">\n",
    "If you are using Google Colab, you can simply copy paste the code; or you can upload this \".ipynb\" notebook file to Google Colab, which would look exactly the same as local Jupyter machine.\n",
    "    </font>"
   ]
  },
  {
   "cell_type": "markdown",
   "metadata": {},
   "source": [
    "# Frisch–Waugh–Lovell theorem\n",
    "\n",
    "Suppose the true model is \n",
    "\n",
    "$$ y = \\beta_0 + \\beta_1x_1 + \\beta_2x_2 +\\epsilon$$\n",
    "\n",
    "If we are interested in $\\beta_2$, instead of regressing y on both $x_1$ and $x_2$, we can do the following.\n",
    "\n",
    "Namely, we can first estimate \n",
    "\n",
    "$$ x_2 \\sim x_1 + e_1$$\n",
    "\n",
    "Then we can regress y on $x_1$\n",
    "\n",
    "$$ y \\sim x_1 + e_2$$\n",
    "\n",
    "Then we regress \n",
    "\n",
    "$$\\hat{e}_2 \\sim \\hat{e}_1$$\n",
    "\n",
    "Then the coefficient of $\\hat{e}_1$ is the same as $\\beta_2$."
   ]
  },
  {
   "cell_type": "markdown",
   "metadata": {},
   "source": [
    "#### alternatively\n",
    "\n",
    "We can indeed get the same results via a 2-Stage Least Squares instead of 3 steps.\n",
    "\n",
    "Namely, we can first estimate \n",
    "\n",
    "$$ x_2 \\sim x_1 + e_1$$\n",
    "\n",
    "Then we can regress y on the residual\n",
    "\n",
    "$$ y \\sim \\hat{e}_1$$\n",
    "\n",
    "Then the coefficient of $\\hat{e}_1$ is the same as $\\beta_2$."
   ]
  },
  {
   "cell_type": "markdown",
   "metadata": {},
   "source": [
    "#### a simple simulation to show the idea"
   ]
  },
  {
   "cell_type": "code",
   "execution_count": 1,
   "metadata": {},
   "outputs": [],
   "source": [
    "import numpy as np\n",
    "import statsmodels.api as sm\n",
    "\n",
    "np.random.seed(0)\n",
    "\n",
    "x1 = np.random.normal(-1, 1, 100)\n",
    "x2 = np.random.normal(1, 1, 100)\n",
    "e = np.random.normal(0, 1, 100)\n",
    "\n",
    "a = 0\n",
    "b1 = 1\n",
    "b2 = 2\n",
    "\n",
    "y = a + b1 * x1 + b2 * x2 + e"
   ]
  },
  {
   "cell_type": "code",
   "execution_count": 2,
   "metadata": {},
   "outputs": [
    {
     "name": "stdout",
     "output_type": "stream",
     "text": [
      "[-0.04432991  1.06681637  2.04428585]\n"
     ]
    }
   ],
   "source": [
    "# Full Equation\n",
    "X_full = np.column_stack((x1, x2))\n",
    "X_full = sm.add_constant(X_full)\n",
    "full_eq = sm.OLS(y, X_full).fit()\n",
    "print(full_eq.params)"
   ]
  },
  {
   "cell_type": "code",
   "execution_count": 3,
   "metadata": {},
   "outputs": [
    {
     "name": "stdout",
     "output_type": "stream",
     "text": [
      "[2.04428585]\n"
     ]
    }
   ],
   "source": [
    "# FWL theorem 3 steps\n",
    "eq3 = sm.OLS(x2, sm.add_constant(x1)).fit()\n",
    "eq4 = sm.OLS(y, sm.add_constant(x1)).fit()\n",
    "eq5 = sm.OLS(eq4.resid, eq3.resid).fit()\n",
    "print(eq5.params)"
   ]
  },
  {
   "cell_type": "code",
   "execution_count": 4,
   "metadata": {},
   "outputs": [
    {
     "name": "stdout",
     "output_type": "stream",
     "text": [
      "[1.1646017  2.04428585]\n"
     ]
    }
   ],
   "source": [
    "# 2-Stage Least Squares\n",
    "eq1 = sm.OLS(x2, sm.add_constant(x1)).fit()\n",
    "eq2 = sm.OLS(y, sm.add_constant(eq1.resid)).fit()\n",
    "print(eq2.params)"
   ]
  },
  {
   "cell_type": "markdown",
   "metadata": {},
   "source": [
    "# Housekeeping code to start with"
   ]
  },
  {
   "cell_type": "code",
   "execution_count": 5,
   "metadata": {},
   "outputs": [],
   "source": [
    "# !pip install econml"
   ]
  },
  {
   "cell_type": "code",
   "execution_count": 6,
   "metadata": {},
   "outputs": [],
   "source": [
    "import pandas as pd\n",
    "import numpy as np\n",
    "import plotly.express as px\n",
    "import plotly.graph_objects as go\n",
    "from scipy.stats import chi2_contingency\n",
    "import statsmodels.formula.api as smf\n",
    "import statsmodels.api as sm\n",
    "import matplotlib.pyplot as plt\n",
    "from sklearn.linear_model import Lasso\n",
    "from sklearn.linear_model import LassoCV\n",
    "import patsy\n",
    "from econml.dml import LinearDML\n",
    "from econml.sklearn_extensions.linear_model import LinearRegression\n",
    "from sklearn.preprocessing import StandardScaler"
   ]
  },
  {
   "cell_type": "markdown",
   "metadata": {},
   "source": [
    "# Tutorial\n",
    "\n",
    "More Orange Juice and Heterogeneous LTE.\n",
    "\n",
    "- Check the data, explain the variables, and describe their features. [some hints.](https://rdrr.io/cran/bayesm/man/orangeJuice.html)\n",
    "\n",
    "- Consider a model\n",
    "$$\\log(move) = \\beta \\cdot income \\times \\log(price) + controls+ɛ$$\n",
    "to learn price elasticity.\n",
    "  - What is the treatment?\n",
    "  - Drop *week* and *store* from *controls*.\n",
    "  - Normalise numeric values and create dummy variables for *brand*.\n",
    "  - Apply the linear double machine learning model to estimate the treatment effects.\n",
    "  - Assume that all confounders are present.\n",
    "\n",
    "- Plot the price elasticity for normalised *income* levels between $-1$ and $1$ and their 99\\% confidence interval."
   ]
  },
  {
   "cell_type": "markdown",
   "metadata": {},
   "source": [
    "### What we are estimating?\n",
    "\n",
    "We are trying to understand how sales would change in response to price for any given income level. The model can be written as\n",
    "\n",
    "$$Y = \\beta X*T + W + \\epsilon$$\n",
    "\n",
    "where Y: log(move); T: log(price); X: income; W: controls.\n",
    "\n",
    "X  is the heterogeneity for the treatment effects."
   ]
  },
  {
   "cell_type": "markdown",
   "metadata": {},
   "source": [
    "## Load and understand the data"
   ]
  },
  {
   "cell_type": "code",
   "execution_count": 7,
   "metadata": {},
   "outputs": [],
   "source": [
    "oj_data = pd.read_csv(\"https://www.dropbox.com/scl/fi/p87ibtcswr221ty5tbout/oj_data.csv?rlkey=qj4bd34srvujac45kkirv8qvw&dl=1\")"
   ]
  },
  {
   "cell_type": "code",
   "execution_count": 8,
   "metadata": {},
   "outputs": [
    {
     "data": {
      "text/html": [
       "<div>\n",
       "<style scoped>\n",
       "    .dataframe tbody tr th:only-of-type {\n",
       "        vertical-align: middle;\n",
       "    }\n",
       "\n",
       "    .dataframe tbody tr th {\n",
       "        vertical-align: top;\n",
       "    }\n",
       "\n",
       "    .dataframe thead th {\n",
       "        text-align: right;\n",
       "    }\n",
       "</style>\n",
       "<table border=\"1\" class=\"dataframe\">\n",
       "  <thead>\n",
       "    <tr style=\"text-align: right;\">\n",
       "      <th></th>\n",
       "      <th>store</th>\n",
       "      <th>brand</th>\n",
       "      <th>week</th>\n",
       "      <th>logmove</th>\n",
       "      <th>feat</th>\n",
       "      <th>price</th>\n",
       "      <th>AGE60</th>\n",
       "      <th>EDUC</th>\n",
       "      <th>ETHNIC</th>\n",
       "      <th>INCOME</th>\n",
       "      <th>HHLARGE</th>\n",
       "      <th>WORKWOM</th>\n",
       "      <th>HVAL150</th>\n",
       "      <th>SSTRDIST</th>\n",
       "      <th>SSTRVOL</th>\n",
       "      <th>CPDIST5</th>\n",
       "      <th>CPWVOL5</th>\n",
       "    </tr>\n",
       "  </thead>\n",
       "  <tbody>\n",
       "    <tr>\n",
       "      <th>0</th>\n",
       "      <td>2</td>\n",
       "      <td>tropicana</td>\n",
       "      <td>40</td>\n",
       "      <td>9.018695</td>\n",
       "      <td>0</td>\n",
       "      <td>3.87</td>\n",
       "      <td>0.232865</td>\n",
       "      <td>0.248935</td>\n",
       "      <td>0.11428</td>\n",
       "      <td>10.553205</td>\n",
       "      <td>0.103953</td>\n",
       "      <td>0.303585</td>\n",
       "      <td>0.463887</td>\n",
       "      <td>2.110122</td>\n",
       "      <td>1.142857</td>\n",
       "      <td>1.92728</td>\n",
       "      <td>0.376927</td>\n",
       "    </tr>\n",
       "    <tr>\n",
       "      <th>1</th>\n",
       "      <td>2</td>\n",
       "      <td>tropicana</td>\n",
       "      <td>46</td>\n",
       "      <td>8.723231</td>\n",
       "      <td>0</td>\n",
       "      <td>3.87</td>\n",
       "      <td>0.232865</td>\n",
       "      <td>0.248935</td>\n",
       "      <td>0.11428</td>\n",
       "      <td>10.553205</td>\n",
       "      <td>0.103953</td>\n",
       "      <td>0.303585</td>\n",
       "      <td>0.463887</td>\n",
       "      <td>2.110122</td>\n",
       "      <td>1.142857</td>\n",
       "      <td>1.92728</td>\n",
       "      <td>0.376927</td>\n",
       "    </tr>\n",
       "    <tr>\n",
       "      <th>2</th>\n",
       "      <td>2</td>\n",
       "      <td>tropicana</td>\n",
       "      <td>47</td>\n",
       "      <td>8.253228</td>\n",
       "      <td>0</td>\n",
       "      <td>3.87</td>\n",
       "      <td>0.232865</td>\n",
       "      <td>0.248935</td>\n",
       "      <td>0.11428</td>\n",
       "      <td>10.553205</td>\n",
       "      <td>0.103953</td>\n",
       "      <td>0.303585</td>\n",
       "      <td>0.463887</td>\n",
       "      <td>2.110122</td>\n",
       "      <td>1.142857</td>\n",
       "      <td>1.92728</td>\n",
       "      <td>0.376927</td>\n",
       "    </tr>\n",
       "    <tr>\n",
       "      <th>3</th>\n",
       "      <td>2</td>\n",
       "      <td>tropicana</td>\n",
       "      <td>48</td>\n",
       "      <td>8.987197</td>\n",
       "      <td>0</td>\n",
       "      <td>3.87</td>\n",
       "      <td>0.232865</td>\n",
       "      <td>0.248935</td>\n",
       "      <td>0.11428</td>\n",
       "      <td>10.553205</td>\n",
       "      <td>0.103953</td>\n",
       "      <td>0.303585</td>\n",
       "      <td>0.463887</td>\n",
       "      <td>2.110122</td>\n",
       "      <td>1.142857</td>\n",
       "      <td>1.92728</td>\n",
       "      <td>0.376927</td>\n",
       "    </tr>\n",
       "    <tr>\n",
       "      <th>4</th>\n",
       "      <td>2</td>\n",
       "      <td>tropicana</td>\n",
       "      <td>50</td>\n",
       "      <td>9.093357</td>\n",
       "      <td>0</td>\n",
       "      <td>3.87</td>\n",
       "      <td>0.232865</td>\n",
       "      <td>0.248935</td>\n",
       "      <td>0.11428</td>\n",
       "      <td>10.553205</td>\n",
       "      <td>0.103953</td>\n",
       "      <td>0.303585</td>\n",
       "      <td>0.463887</td>\n",
       "      <td>2.110122</td>\n",
       "      <td>1.142857</td>\n",
       "      <td>1.92728</td>\n",
       "      <td>0.376927</td>\n",
       "    </tr>\n",
       "  </tbody>\n",
       "</table>\n",
       "</div>"
      ],
      "text/plain": [
       "   store      brand  week   logmove  feat  price     AGE60      EDUC   ETHNIC  \\\n",
       "0      2  tropicana    40  9.018695     0   3.87  0.232865  0.248935  0.11428   \n",
       "1      2  tropicana    46  8.723231     0   3.87  0.232865  0.248935  0.11428   \n",
       "2      2  tropicana    47  8.253228     0   3.87  0.232865  0.248935  0.11428   \n",
       "3      2  tropicana    48  8.987197     0   3.87  0.232865  0.248935  0.11428   \n",
       "4      2  tropicana    50  9.093357     0   3.87  0.232865  0.248935  0.11428   \n",
       "\n",
       "      INCOME   HHLARGE   WORKWOM   HVAL150  SSTRDIST   SSTRVOL  CPDIST5  \\\n",
       "0  10.553205  0.103953  0.303585  0.463887  2.110122  1.142857  1.92728   \n",
       "1  10.553205  0.103953  0.303585  0.463887  2.110122  1.142857  1.92728   \n",
       "2  10.553205  0.103953  0.303585  0.463887  2.110122  1.142857  1.92728   \n",
       "3  10.553205  0.103953  0.303585  0.463887  2.110122  1.142857  1.92728   \n",
       "4  10.553205  0.103953  0.303585  0.463887  2.110122  1.142857  1.92728   \n",
       "\n",
       "    CPWVOL5  \n",
       "0  0.376927  \n",
       "1  0.376927  \n",
       "2  0.376927  \n",
       "3  0.376927  \n",
       "4  0.376927  "
      ]
     },
     "execution_count": 8,
     "metadata": {},
     "output_type": "execute_result"
    }
   ],
   "source": [
    "oj_data.head()"
   ]
  },
  {
   "cell_type": "code",
   "execution_count": 9,
   "metadata": {},
   "outputs": [
    {
     "name": "stdout",
     "output_type": "stream",
     "text": [
      "<class 'pandas.core.frame.DataFrame'>\n",
      "RangeIndex: 28947 entries, 0 to 28946\n",
      "Data columns (total 17 columns):\n",
      " #   Column    Non-Null Count  Dtype  \n",
      "---  ------    --------------  -----  \n",
      " 0   store     28947 non-null  int64  \n",
      " 1   brand     28947 non-null  object \n",
      " 2   week      28947 non-null  int64  \n",
      " 3   logmove   28947 non-null  float64\n",
      " 4   feat      28947 non-null  int64  \n",
      " 5   price     28947 non-null  float64\n",
      " 6   AGE60     28947 non-null  float64\n",
      " 7   EDUC      28947 non-null  float64\n",
      " 8   ETHNIC    28947 non-null  float64\n",
      " 9   INCOME    28947 non-null  float64\n",
      " 10  HHLARGE   28947 non-null  float64\n",
      " 11  WORKWOM   28947 non-null  float64\n",
      " 12  HVAL150   28947 non-null  float64\n",
      " 13  SSTRDIST  28947 non-null  float64\n",
      " 14  SSTRVOL   28947 non-null  float64\n",
      " 15  CPDIST5   28947 non-null  float64\n",
      " 16  CPWVOL5   28947 non-null  float64\n",
      "dtypes: float64(13), int64(3), object(1)\n",
      "memory usage: 3.8+ MB\n"
     ]
    }
   ],
   "source": [
    "oj_data.info()"
   ]
  },
  {
   "cell_type": "markdown",
   "metadata": {},
   "source": [
    "## Construct Y, X and T variable"
   ]
  },
  {
   "cell_type": "code",
   "execution_count": 10,
   "metadata": {},
   "outputs": [
    {
     "data": {
      "text/plain": [
       "array([ 9.01869549,  8.72323127,  8.25322765, ...,  9.50599061,\n",
       "       10.9273763 ,  8.85936345])"
      ]
     },
     "execution_count": 10,
     "metadata": {},
     "output_type": "execute_result"
    }
   ],
   "source": [
    "# Prepare data\n",
    "Y = oj_data['logmove'].values\n",
    "Y"
   ]
  },
  {
   "cell_type": "code",
   "execution_count": 11,
   "metadata": {},
   "outputs": [
    {
     "data": {
      "text/plain": [
       "array([1.35325451, 1.35325451, 1.35325451, ..., 0.46373402, 0.39877612,\n",
       "       0.55961579])"
      ]
     },
     "execution_count": 11,
     "metadata": {},
     "output_type": "execute_result"
    }
   ],
   "source": [
    "T = np.log(oj_data[\"price\"]).values\n",
    "T"
   ]
  },
  {
   "cell_type": "code",
   "execution_count": 12,
   "metadata": {},
   "outputs": [
    {
     "data": {
      "text/html": [
       "<div>\n",
       "<style scoped>\n",
       "    .dataframe tbody tr th:only-of-type {\n",
       "        vertical-align: middle;\n",
       "    }\n",
       "\n",
       "    .dataframe tbody tr th {\n",
       "        vertical-align: top;\n",
       "    }\n",
       "\n",
       "    .dataframe thead th {\n",
       "        text-align: right;\n",
       "    }\n",
       "</style>\n",
       "<table border=\"1\" class=\"dataframe\">\n",
       "  <thead>\n",
       "    <tr style=\"text-align: right;\">\n",
       "      <th></th>\n",
       "      <th>0</th>\n",
       "    </tr>\n",
       "  </thead>\n",
       "  <tbody>\n",
       "    <tr>\n",
       "      <th>0</th>\n",
       "      <td>-0.225035</td>\n",
       "    </tr>\n",
       "    <tr>\n",
       "      <th>1</th>\n",
       "      <td>-0.225035</td>\n",
       "    </tr>\n",
       "    <tr>\n",
       "      <th>2</th>\n",
       "      <td>-0.225035</td>\n",
       "    </tr>\n",
       "    <tr>\n",
       "      <th>3</th>\n",
       "      <td>-0.225035</td>\n",
       "    </tr>\n",
       "    <tr>\n",
       "      <th>4</th>\n",
       "      <td>-0.225035</td>\n",
       "    </tr>\n",
       "    <tr>\n",
       "      <th>...</th>\n",
       "      <td>...</td>\n",
       "    </tr>\n",
       "    <tr>\n",
       "      <th>28942</th>\n",
       "      <td>1.238911</td>\n",
       "    </tr>\n",
       "    <tr>\n",
       "      <th>28943</th>\n",
       "      <td>1.238911</td>\n",
       "    </tr>\n",
       "    <tr>\n",
       "      <th>28944</th>\n",
       "      <td>1.238911</td>\n",
       "    </tr>\n",
       "    <tr>\n",
       "      <th>28945</th>\n",
       "      <td>1.238911</td>\n",
       "    </tr>\n",
       "    <tr>\n",
       "      <th>28946</th>\n",
       "      <td>1.238911</td>\n",
       "    </tr>\n",
       "  </tbody>\n",
       "</table>\n",
       "<p>28947 rows × 1 columns</p>\n",
       "</div>"
      ],
      "text/plain": [
       "              0\n",
       "0     -0.225035\n",
       "1     -0.225035\n",
       "2     -0.225035\n",
       "3     -0.225035\n",
       "4     -0.225035\n",
       "...         ...\n",
       "28942  1.238911\n",
       "28943  1.238911\n",
       "28944  1.238911\n",
       "28945  1.238911\n",
       "28946  1.238911\n",
       "\n",
       "[28947 rows x 1 columns]"
      ]
     },
     "execution_count": 12,
     "metadata": {},
     "output_type": "execute_result"
    }
   ],
   "source": [
    "scaler = StandardScaler()\n",
    "X = scaler.fit_transform(oj_data[['INCOME']].values)\n",
    "pd.DataFrame(X)"
   ]
  },
  {
   "cell_type": "markdown",
   "metadata": {},
   "source": [
    "## Construct W: control variables. \n",
    "1. Normalise numeric values and create dummy variables for brand. \n",
    "2. Drop week and store from controls.\n",
    "\n",
    "- W1: Everything, other than 'price', 'logmove', 'brand', 'week', 'store','INCOME'.\n",
    "- W2: 'brand' dummy. \n",
    "\n",
    "W = [W1 W2]"
   ]
  },
  {
   "cell_type": "markdown",
   "metadata": {},
   "source": [
    "Get all the control variables:"
   ]
  },
  {
   "cell_type": "code",
   "execution_count": 13,
   "metadata": {
    "scrolled": true
   },
   "outputs": [
    {
     "data": {
      "text/plain": [
       "(28947, 11)"
      ]
     },
     "execution_count": 13,
     "metadata": {},
     "output_type": "execute_result"
    }
   ],
   "source": [
    "W1 = scaler.fit_transform(oj_data[[c for c in oj_data.columns if c not in ['price', 'logmove', 'brand', 'week', 'store','INCOME']]].values)\n",
    "W1.shape"
   ]
  },
  {
   "cell_type": "markdown",
   "metadata": {},
   "source": [
    "Convert 3 brands into 3 dummy variables"
   ]
  },
  {
   "cell_type": "code",
   "execution_count": 14,
   "metadata": {
    "scrolled": true
   },
   "outputs": [
    {
     "data": {
      "text/plain": [
       "array([[0, 0, 1],\n",
       "       [0, 0, 1],\n",
       "       [0, 0, 1],\n",
       "       ...,\n",
       "       [1, 0, 0],\n",
       "       [1, 0, 0],\n",
       "       [1, 0, 0]], dtype=uint8)"
      ]
     },
     "execution_count": 14,
     "metadata": {},
     "output_type": "execute_result"
    }
   ],
   "source": [
    "W2 = pd.get_dummies(oj_data[['brand']]).values \n",
    "W2"
   ]
  },
  {
   "cell_type": "markdown",
   "metadata": {},
   "source": [
    "Put all the controls and dummy together"
   ]
  },
  {
   "cell_type": "code",
   "execution_count": 15,
   "metadata": {},
   "outputs": [
    {
     "data": {
      "text/html": [
       "<div>\n",
       "<style scoped>\n",
       "    .dataframe tbody tr th:only-of-type {\n",
       "        vertical-align: middle;\n",
       "    }\n",
       "\n",
       "    .dataframe tbody tr th {\n",
       "        vertical-align: top;\n",
       "    }\n",
       "\n",
       "    .dataframe thead th {\n",
       "        text-align: right;\n",
       "    }\n",
       "</style>\n",
       "<table border=\"1\" class=\"dataframe\">\n",
       "  <thead>\n",
       "    <tr style=\"text-align: right;\">\n",
       "      <th></th>\n",
       "      <th>0</th>\n",
       "      <th>1</th>\n",
       "      <th>2</th>\n",
       "      <th>3</th>\n",
       "      <th>4</th>\n",
       "      <th>5</th>\n",
       "      <th>6</th>\n",
       "      <th>7</th>\n",
       "      <th>8</th>\n",
       "      <th>9</th>\n",
       "      <th>10</th>\n",
       "      <th>11</th>\n",
       "      <th>12</th>\n",
       "      <th>13</th>\n",
       "    </tr>\n",
       "  </thead>\n",
       "  <tbody>\n",
       "    <tr>\n",
       "      <th>0</th>\n",
       "      <td>-0.557732</td>\n",
       "      <td>0.965476</td>\n",
       "      <td>0.215706</td>\n",
       "      <td>-0.220052</td>\n",
       "      <td>-0.386145</td>\n",
       "      <td>-1.055453</td>\n",
       "      <td>0.502548</td>\n",
       "      <td>-0.860274</td>\n",
       "      <td>-0.122426</td>\n",
       "      <td>-0.26456</td>\n",
       "      <td>-0.282733</td>\n",
       "      <td>0.0</td>\n",
       "      <td>0.0</td>\n",
       "      <td>1.0</td>\n",
       "    </tr>\n",
       "    <tr>\n",
       "      <th>1</th>\n",
       "      <td>-0.557732</td>\n",
       "      <td>0.965476</td>\n",
       "      <td>0.215706</td>\n",
       "      <td>-0.220052</td>\n",
       "      <td>-0.386145</td>\n",
       "      <td>-1.055453</td>\n",
       "      <td>0.502548</td>\n",
       "      <td>-0.860274</td>\n",
       "      <td>-0.122426</td>\n",
       "      <td>-0.26456</td>\n",
       "      <td>-0.282733</td>\n",
       "      <td>0.0</td>\n",
       "      <td>0.0</td>\n",
       "      <td>1.0</td>\n",
       "    </tr>\n",
       "    <tr>\n",
       "      <th>2</th>\n",
       "      <td>-0.557732</td>\n",
       "      <td>0.965476</td>\n",
       "      <td>0.215706</td>\n",
       "      <td>-0.220052</td>\n",
       "      <td>-0.386145</td>\n",
       "      <td>-1.055453</td>\n",
       "      <td>0.502548</td>\n",
       "      <td>-0.860274</td>\n",
       "      <td>-0.122426</td>\n",
       "      <td>-0.26456</td>\n",
       "      <td>-0.282733</td>\n",
       "      <td>0.0</td>\n",
       "      <td>0.0</td>\n",
       "      <td>1.0</td>\n",
       "    </tr>\n",
       "    <tr>\n",
       "      <th>3</th>\n",
       "      <td>-0.557732</td>\n",
       "      <td>0.965476</td>\n",
       "      <td>0.215706</td>\n",
       "      <td>-0.220052</td>\n",
       "      <td>-0.386145</td>\n",
       "      <td>-1.055453</td>\n",
       "      <td>0.502548</td>\n",
       "      <td>-0.860274</td>\n",
       "      <td>-0.122426</td>\n",
       "      <td>-0.26456</td>\n",
       "      <td>-0.282733</td>\n",
       "      <td>0.0</td>\n",
       "      <td>0.0</td>\n",
       "      <td>1.0</td>\n",
       "    </tr>\n",
       "    <tr>\n",
       "      <th>4</th>\n",
       "      <td>-0.557732</td>\n",
       "      <td>0.965476</td>\n",
       "      <td>0.215706</td>\n",
       "      <td>-0.220052</td>\n",
       "      <td>-0.386145</td>\n",
       "      <td>-1.055453</td>\n",
       "      <td>0.502548</td>\n",
       "      <td>-0.860274</td>\n",
       "      <td>-0.122426</td>\n",
       "      <td>-0.26456</td>\n",
       "      <td>-0.282733</td>\n",
       "      <td>0.0</td>\n",
       "      <td>0.0</td>\n",
       "      <td>1.0</td>\n",
       "    </tr>\n",
       "    <tr>\n",
       "      <th>...</th>\n",
       "      <td>...</td>\n",
       "      <td>...</td>\n",
       "      <td>...</td>\n",
       "      <td>...</td>\n",
       "      <td>...</td>\n",
       "      <td>...</td>\n",
       "      <td>...</td>\n",
       "      <td>...</td>\n",
       "      <td>...</td>\n",
       "      <td>...</td>\n",
       "      <td>...</td>\n",
       "      <td>...</td>\n",
       "      <td>...</td>\n",
       "      <td>...</td>\n",
       "    </tr>\n",
       "    <tr>\n",
       "      <th>28942</th>\n",
       "      <td>-0.557732</td>\n",
       "      <td>0.589494</td>\n",
       "      <td>2.757265</td>\n",
       "      <td>-0.225544</td>\n",
       "      <td>-0.749362</td>\n",
       "      <td>-0.548398</td>\n",
       "      <td>2.162847</td>\n",
       "      <td>0.267604</td>\n",
       "      <td>-0.952357</td>\n",
       "      <td>-1.84681</td>\n",
       "      <td>-0.479616</td>\n",
       "      <td>1.0</td>\n",
       "      <td>0.0</td>\n",
       "      <td>0.0</td>\n",
       "    </tr>\n",
       "    <tr>\n",
       "      <th>28943</th>\n",
       "      <td>-0.557732</td>\n",
       "      <td>0.589494</td>\n",
       "      <td>2.757265</td>\n",
       "      <td>-0.225544</td>\n",
       "      <td>-0.749362</td>\n",
       "      <td>-0.548398</td>\n",
       "      <td>2.162847</td>\n",
       "      <td>0.267604</td>\n",
       "      <td>-0.952357</td>\n",
       "      <td>-1.84681</td>\n",
       "      <td>-0.479616</td>\n",
       "      <td>1.0</td>\n",
       "      <td>0.0</td>\n",
       "      <td>0.0</td>\n",
       "    </tr>\n",
       "    <tr>\n",
       "      <th>28944</th>\n",
       "      <td>-0.557732</td>\n",
       "      <td>0.589494</td>\n",
       "      <td>2.757265</td>\n",
       "      <td>-0.225544</td>\n",
       "      <td>-0.749362</td>\n",
       "      <td>-0.548398</td>\n",
       "      <td>2.162847</td>\n",
       "      <td>0.267604</td>\n",
       "      <td>-0.952357</td>\n",
       "      <td>-1.84681</td>\n",
       "      <td>-0.479616</td>\n",
       "      <td>1.0</td>\n",
       "      <td>0.0</td>\n",
       "      <td>0.0</td>\n",
       "    </tr>\n",
       "    <tr>\n",
       "      <th>28945</th>\n",
       "      <td>-0.557732</td>\n",
       "      <td>0.589494</td>\n",
       "      <td>2.757265</td>\n",
       "      <td>-0.225544</td>\n",
       "      <td>-0.749362</td>\n",
       "      <td>-0.548398</td>\n",
       "      <td>2.162847</td>\n",
       "      <td>0.267604</td>\n",
       "      <td>-0.952357</td>\n",
       "      <td>-1.84681</td>\n",
       "      <td>-0.479616</td>\n",
       "      <td>1.0</td>\n",
       "      <td>0.0</td>\n",
       "      <td>0.0</td>\n",
       "    </tr>\n",
       "    <tr>\n",
       "      <th>28946</th>\n",
       "      <td>-0.557732</td>\n",
       "      <td>0.589494</td>\n",
       "      <td>2.757265</td>\n",
       "      <td>-0.225544</td>\n",
       "      <td>-0.749362</td>\n",
       "      <td>-0.548398</td>\n",
       "      <td>2.162847</td>\n",
       "      <td>0.267604</td>\n",
       "      <td>-0.952357</td>\n",
       "      <td>-1.84681</td>\n",
       "      <td>-0.479616</td>\n",
       "      <td>1.0</td>\n",
       "      <td>0.0</td>\n",
       "      <td>0.0</td>\n",
       "    </tr>\n",
       "  </tbody>\n",
       "</table>\n",
       "<p>28947 rows × 14 columns</p>\n",
       "</div>"
      ],
      "text/plain": [
       "             0         1         2         3         4         5         6   \\\n",
       "0     -0.557732  0.965476  0.215706 -0.220052 -0.386145 -1.055453  0.502548   \n",
       "1     -0.557732  0.965476  0.215706 -0.220052 -0.386145 -1.055453  0.502548   \n",
       "2     -0.557732  0.965476  0.215706 -0.220052 -0.386145 -1.055453  0.502548   \n",
       "3     -0.557732  0.965476  0.215706 -0.220052 -0.386145 -1.055453  0.502548   \n",
       "4     -0.557732  0.965476  0.215706 -0.220052 -0.386145 -1.055453  0.502548   \n",
       "...         ...       ...       ...       ...       ...       ...       ...   \n",
       "28942 -0.557732  0.589494  2.757265 -0.225544 -0.749362 -0.548398  2.162847   \n",
       "28943 -0.557732  0.589494  2.757265 -0.225544 -0.749362 -0.548398  2.162847   \n",
       "28944 -0.557732  0.589494  2.757265 -0.225544 -0.749362 -0.548398  2.162847   \n",
       "28945 -0.557732  0.589494  2.757265 -0.225544 -0.749362 -0.548398  2.162847   \n",
       "28946 -0.557732  0.589494  2.757265 -0.225544 -0.749362 -0.548398  2.162847   \n",
       "\n",
       "             7         8        9         10   11   12   13  \n",
       "0     -0.860274 -0.122426 -0.26456 -0.282733  0.0  0.0  1.0  \n",
       "1     -0.860274 -0.122426 -0.26456 -0.282733  0.0  0.0  1.0  \n",
       "2     -0.860274 -0.122426 -0.26456 -0.282733  0.0  0.0  1.0  \n",
       "3     -0.860274 -0.122426 -0.26456 -0.282733  0.0  0.0  1.0  \n",
       "4     -0.860274 -0.122426 -0.26456 -0.282733  0.0  0.0  1.0  \n",
       "...         ...       ...      ...       ...  ...  ...  ...  \n",
       "28942  0.267604 -0.952357 -1.84681 -0.479616  1.0  0.0  0.0  \n",
       "28943  0.267604 -0.952357 -1.84681 -0.479616  1.0  0.0  0.0  \n",
       "28944  0.267604 -0.952357 -1.84681 -0.479616  1.0  0.0  0.0  \n",
       "28945  0.267604 -0.952357 -1.84681 -0.479616  1.0  0.0  0.0  \n",
       "28946  0.267604 -0.952357 -1.84681 -0.479616  1.0  0.0  0.0  \n",
       "\n",
       "[28947 rows x 14 columns]"
      ]
     },
     "execution_count": 15,
     "metadata": {},
     "output_type": "execute_result"
    }
   ],
   "source": [
    "W = np.concatenate([W1, W2], axis=1)\n",
    "pd.DataFrame(W)"
   ]
  },
  {
   "cell_type": "markdown",
   "metadata": {},
   "source": [
    "### Apply the linear double machine learning model to estimate the treatment effects."
   ]
  },
  {
   "cell_type": "code",
   "execution_count": 16,
   "metadata": {},
   "outputs": [
    {
     "data": {
      "text/plain": [
       "<econml.dml.dml.LinearDML at 0x7fcbe0573190>"
      ]
     },
     "execution_count": 16,
     "metadata": {},
     "output_type": "execute_result"
    }
   ],
   "source": [
    "#default model is Lasso\n",
    "est = LinearDML()\n",
    "est.fit(Y, T, X=X, W=W)"
   ]
  },
  {
   "cell_type": "markdown",
   "metadata": {},
   "source": [
    "Y: log(move); T: log(price); X: income; W: controls."
   ]
  },
  {
   "cell_type": "code",
   "execution_count": 17,
   "metadata": {
    "scrolled": true
   },
   "outputs": [
    {
     "data": {
      "text/html": [
       "<div>\n",
       "<style scoped>\n",
       "    .dataframe tbody tr th:only-of-type {\n",
       "        vertical-align: middle;\n",
       "    }\n",
       "\n",
       "    .dataframe tbody tr th {\n",
       "        vertical-align: top;\n",
       "    }\n",
       "\n",
       "    .dataframe thead th {\n",
       "        text-align: right;\n",
       "    }\n",
       "</style>\n",
       "<table border=\"1\" class=\"dataframe\">\n",
       "  <thead>\n",
       "    <tr style=\"text-align: right;\">\n",
       "      <th></th>\n",
       "      <th>0</th>\n",
       "      <th>1</th>\n",
       "      <th>2</th>\n",
       "      <th>3</th>\n",
       "      <th>4</th>\n",
       "      <th>5</th>\n",
       "      <th>6</th>\n",
       "      <th>7</th>\n",
       "      <th>8</th>\n",
       "      <th>9</th>\n",
       "      <th>...</th>\n",
       "      <th>73</th>\n",
       "      <th>74</th>\n",
       "      <th>75</th>\n",
       "      <th>76</th>\n",
       "      <th>77</th>\n",
       "      <th>78</th>\n",
       "      <th>79</th>\n",
       "      <th>80</th>\n",
       "      <th>81</th>\n",
       "      <th>82</th>\n",
       "    </tr>\n",
       "  </thead>\n",
       "  <tbody>\n",
       "    <tr>\n",
       "      <th>0</th>\n",
       "      <td>-2.655432</td>\n",
       "      <td>-2.302743</td>\n",
       "      <td>-2.196445</td>\n",
       "      <td>-2.055053</td>\n",
       "      <td>-1.869456</td>\n",
       "      <td>-1.694782</td>\n",
       "      <td>-1.686528</td>\n",
       "      <td>-1.641132</td>\n",
       "      <td>-1.517378</td>\n",
       "      <td>-1.267328</td>\n",
       "      <td>...</td>\n",
       "      <td>1.180248</td>\n",
       "      <td>1.212999</td>\n",
       "      <td>1.238911</td>\n",
       "      <td>1.289870</td>\n",
       "      <td>1.297821</td>\n",
       "      <td>1.357129</td>\n",
       "      <td>1.513218</td>\n",
       "      <td>1.538324</td>\n",
       "      <td>2.183651</td>\n",
       "      <td>2.194271</td>\n",
       "    </tr>\n",
       "    <tr>\n",
       "      <th>1</th>\n",
       "      <td>-2.992782</td>\n",
       "      <td>-2.940874</td>\n",
       "      <td>-2.925230</td>\n",
       "      <td>-2.904420</td>\n",
       "      <td>-2.877104</td>\n",
       "      <td>-2.851396</td>\n",
       "      <td>-2.850182</td>\n",
       "      <td>-2.843500</td>\n",
       "      <td>-2.825286</td>\n",
       "      <td>-2.788485</td>\n",
       "      <td>...</td>\n",
       "      <td>-2.428257</td>\n",
       "      <td>-2.423437</td>\n",
       "      <td>-2.419623</td>\n",
       "      <td>-2.412123</td>\n",
       "      <td>-2.410953</td>\n",
       "      <td>-2.402224</td>\n",
       "      <td>-2.379252</td>\n",
       "      <td>-2.375557</td>\n",
       "      <td>-2.280579</td>\n",
       "      <td>-2.279016</td>\n",
       "    </tr>\n",
       "  </tbody>\n",
       "</table>\n",
       "<p>2 rows × 83 columns</p>\n",
       "</div>"
      ],
      "text/plain": [
       "         0         1         2         3         4         5         6   \\\n",
       "0 -2.655432 -2.302743 -2.196445 -2.055053 -1.869456 -1.694782 -1.686528   \n",
       "1 -2.992782 -2.940874 -2.925230 -2.904420 -2.877104 -2.851396 -2.850182   \n",
       "\n",
       "         7         8         9   ...        73        74        75        76  \\\n",
       "0 -1.641132 -1.517378 -1.267328  ...  1.180248  1.212999  1.238911  1.289870   \n",
       "1 -2.843500 -2.825286 -2.788485  ... -2.428257 -2.423437 -2.419623 -2.412123   \n",
       "\n",
       "         77        78        79        80        81        82  \n",
       "0  1.297821  1.357129  1.513218  1.538324  2.183651  2.194271  \n",
       "1 -2.410953 -2.402224 -2.379252 -2.375557 -2.280579 -2.279016  \n",
       "\n",
       "[2 rows x 83 columns]"
      ]
     },
     "execution_count": 17,
     "metadata": {},
     "output_type": "execute_result"
    }
   ],
   "source": [
    "# Find the income levels: from data X\n",
    "X0 = np.asarray(X)\n",
    "X_level = np.unique(X0, axis=0) # .ravel() to transfer into 1-dimension array\n",
    "\n",
    "# Find the heterigeneous treatment effect for each X\n",
    "TE = est.const_marginal_effect(X_level) # est.effect(X_level) will do the same job in this case\n",
    "\n",
    "# print the TE for each given income level\n",
    "pd.DataFrame([X_level.ravel(), TE])"
   ]
  },
  {
   "cell_type": "markdown",
   "metadata": {},
   "source": [
    "How do we interpret the Price Elasticity of Demand?\n",
    "\n",
    "$$E_{\\langle P\\rangle}=\\frac{\\Delta Q / Q}{\\Delta P / P}$$\n",
    "\n",
    "We can say that the price elasticity of demand is the percentage change in demand for a commodity due to a given percentage change in the price."
   ]
  },
  {
   "cell_type": "markdown",
   "metadata": {},
   "source": [
    "### Plot the price elasticity for income levels (from the data) and their 99% confidence interval."
   ]
  },
  {
   "cell_type": "code",
   "execution_count": 18,
   "metadata": {},
   "outputs": [
    {
     "data": {
      "image/png": "[encoded data removed]",
      "text/plain": [
       "<Figure size 720x432 with 1 Axes>"
      ]
     },
     "metadata": {
      "needs_background": "light"
     },
     "output_type": "display_data"
    }
   ],
   "source": [
    "# Find the 99% Confidence Interval of heterigeneous treatment effect for each X\n",
    "me_inter = est.const_marginal_effect_interval(X_level, alpha=0.01)\n",
    "lower_bounds = me_inter[0] \n",
    "upper_bounds = me_inter[1] \n",
    "\n",
    "plt.figure(figsize=(10, 6))\n",
    "plt.errorbar(X_level, TE, yerr=[TE - lower_bounds, upper_bounds - TE],\n",
    "             fmt='o', capsize=5)\n",
    "plt.title('Marginal Effects with Confidence Intervals')\n",
    "plt.grid(True)\n",
    "plt.show()"
   ]
  },
  {
   "cell_type": "markdown",
   "metadata": {},
   "source": [
    "### Plot the price elasticity for normalised income levels between  −1  and  1  and their 99% confidence interval."
   ]
  },
  {
   "cell_type": "code",
   "execution_count": 19,
   "metadata": {},
   "outputs": [],
   "source": [
    "## Generate test data\n",
    "min_income = -1\n",
    "max_income = 1\n",
    "delta = (1 - (-1)) / 100\n",
    "X_test = np.arange(min_income, max_income + delta - 0.001, delta).reshape(-1,1)"
   ]
  },
  {
   "cell_type": "code",
   "execution_count": 20,
   "metadata": {},
   "outputs": [],
   "source": [
    "# te_pred = est.effect(X_test) \n",
    "te_pred = est.const_marginal_effect(X_test)\n",
    "te_pred_interval = est.const_marginal_effect_interval(X_test, alpha=0.01)"
   ]
  },
  {
   "cell_type": "code",
   "execution_count": 21,
   "metadata": {},
   "outputs": [
    {
     "data": {
      "image/png": "[encoded data removed]",
      "text/plain": [
       "<Figure size 720x432 with 1 Axes>"
      ]
     },
     "metadata": {
      "needs_background": "light"
     },
     "output_type": "display_data"
    }
   ],
   "source": [
    "# Plot Oranje Juice elasticity as a function of income\n",
    "plt.figure(figsize=(10,6))\n",
    "plt.plot(X_test.flatten(), te_pred, label=\"OJ Elasticity\")\n",
    "plt.fill_between(X_test.flatten(), te_pred_interval[0], te_pred_interval[1], alpha=0.2, label=\"99% CI\")\n",
    "plt.xlabel('Scaled Income')\n",
    "plt.ylabel('Orange Juice Elasticity')\n",
    "plt.title(\"Orange Juice Elasticity vs Income\")\n",
    "plt.legend()\n",
    "plt.show()"
   ]
  }
 ],
 "metadata": {
  "authors": [
   {
    "name": "Zheng Fan"
   }
  ],
  "kernelspec": {
   "display_name": "Python 3",
   "language": "python",
   "name": "python3"
  },
  "language_info": {
   "codemirror_mode": {
    "name": "ipython",
    "version": 3
   },
   "file_extension": ".py",
   "mimetype": "text/x-python",
   "name": "python",
   "nbconvert_exporter": "python",
   "pygments_lexer": "ipython3",
   "version": "3.8.5"
  },
  "title": "ECOM90025 Advanced Data Analysis"
 },
 "nbformat": 4,
 "nbformat_minor": 4
}
